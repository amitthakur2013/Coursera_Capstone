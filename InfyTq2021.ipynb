{
  "nbformat": 4,
  "nbformat_minor": 0,
  "metadata": {
    "colab": {
      "name": "InfyTq2021.ipynb",
      "provenance": [],
      "collapsed_sections": [],
      "include_colab_link": true
    },
    "kernelspec": {
      "name": "python3",
      "display_name": "Python 3"
    }
  },
  "cells": [
    {
      "cell_type": "markdown",
      "metadata": {
        "id": "view-in-github",
        "colab_type": "text"
      },
      "source": [
        "<a href=\"https://colab.research.google.com/github/amitthakur2013/Coursera_Capstone/blob/master/InfyTq2021.ipynb\" target=\"_parent\"><img src=\"https://colab.research.google.com/assets/colab-badge.svg\" alt=\"Open In Colab\"/></a>"
      ]
    },
    {
      "cell_type": "markdown",
      "metadata": {
        "id": "TPGhF5jIvUgX",
        "colab_type": "text"
      },
      "source": [
        "**Infi Tq programs(Coding Questions)**\n"
      ]
    },
    {
      "cell_type": "code",
      "metadata": {
        "id": "Ij32hzIwvTCU",
        "colab_type": "code",
        "colab": {}
      },
      "source": [
        "#1. Generate Otp\n",
        "############################################\n",
        "#Input:- \"4361588\"\n",
        "#separate odd places integers\n",
        "#3,5,8\n",
        "# square all the digits\n",
        "#9,25,64\n",
        "#return first 4 digit 9256\n",
        "#OUTPUT- \"9256\"\n",
        "#############################################\n",
        "#SOLUTION:-"
      ],
      "execution_count": 0,
      "outputs": []
    },
    {
      "cell_type": "code",
      "metadata": {
        "id": "EVJE8qlkv_qL",
        "colab_type": "code",
        "colab": {
          "base_uri": "https://localhost:8080/",
          "height": 51
        },
        "outputId": "e6c9d4b8-b924-4d0b-e7a6-43bef09f99f7"
      },
      "source": [
        "n=list(input())\n",
        "n=list(map(lambda x:int(x),n))\n",
        "l=[]\n",
        "for i in range(1,len(n),2):\n",
        "  l.append(str(pow(n[i],2)))\n",
        "s=\"\".join(l)\n",
        "print(s[:4])"
      ],
      "execution_count": 7,
      "outputs": [
        {
          "output_type": "stream",
          "text": [
            "4365188\n",
            "9256\n"
          ],
          "name": "stdout"
        }
      ]
    },
    {
      "cell_type": "code",
      "metadata": {
        "id": "8XHzu9QqxIZO",
        "colab_type": "code",
        "colab": {}
      },
      "source": [
        "#2. Find the position of sequence break of brackets\n",
        "#Input:())\n",
        "#Output:3\n",
        "#Input:[][][\n",
        "#Output:6           "
      ],
      "execution_count": 0,
      "outputs": []
    },
    {
      "cell_type": "code",
      "metadata": {
        "id": "r4yPOxTfxh34",
        "colab_type": "code",
        "colab": {
          "base_uri": "https://localhost:8080/",
          "height": 34
        },
        "outputId": "91a1f847-c233-4df0-944a-5005dbde316b"
      },
      "source": [
        "def check(expr):\n",
        "  s=[]\n",
        "  for i in range(len(expr)):\n",
        "    if(expr[i] == '(' or expr[i] == \"[\" or expr[i] == \"{\"):\n",
        "      s.append(expr[i])\n",
        "      continue\n",
        "    if(len(s)== 0):\n",
        "      return i+1;\n",
        "    if(expr[i] ==')'):\n",
        "      x = s.pop();\n",
        "      if(x=='{' or x=='['):\n",
        "        return i+1\n",
        "    elif(expr[i] =='}'):\n",
        "      x = s.pop();\n",
        "      if(x=='(' or x=='['):\n",
        "        return i+1\n",
        "    elif(expr[i] ==']'):\n",
        "      x = s.pop();\n",
        "      if(x=='{' or x=='('):\n",
        "        return i+1\n",
        "  if(len(s)):\n",
        "    return i+1\n",
        "  \n",
        "check(\"{{[]}}}\")"
      ],
      "execution_count": 19,
      "outputs": [
        {
          "output_type": "execute_result",
          "data": {
            "text/plain": [
              "7"
            ]
          },
          "metadata": {
            "tags": []
          },
          "execution_count": 19
        }
      ]
    },
    {
      "cell_type": "code",
      "metadata": {
        "id": "m7X1FDer3Xf4",
        "colab_type": "code",
        "colab": {}
      },
      "source": [
        "#3. Revers  a given string keeping its special characters at the same place\n",
        "#Input: intell#ect\n",
        "#Output: tcelle#tni"
      ],
      "execution_count": 0,
      "outputs": []
    },
    {
      "cell_type": "code",
      "metadata": {
        "id": "AaiEHyrk4zjb",
        "colab_type": "code",
        "colab": {
          "base_uri": "https://localhost:8080/",
          "height": 51
        },
        "outputId": "c64e8351-3c6e-4c97-c176-9ef1e04a936b"
      },
      "source": [
        "s=input()\n",
        "s1=\"\"\n",
        "s2=\"\"\n",
        "for i in s:\n",
        "  ch=i\n",
        "  if((ch>='a' and ch<='z') or (ch>='A' and ch<='Z')):\n",
        "    s1+=ch\n",
        "s1=s1[::-1]\n",
        "d=0\n",
        "for i in s:\n",
        "  if((i>='a' and i<='z') or (i>='A' and i<='Z')):\n",
        "    s2+=s1[d]\n",
        "    d+=1\n",
        "  else:\n",
        "    s2+=i\n",
        "print(s2)"
      ],
      "execution_count": 26,
      "outputs": [
        {
          "output_type": "stream",
          "text": [
            "a#b@c\n",
            "c#b@a\n"
          ],
          "name": "stdout"
        }
      ]
    },
    {
      "cell_type": "code",
      "metadata": {
        "id": "zFKznl8F7gKJ",
        "colab_type": "code",
        "colab": {}
      },
      "source": [
        "#4.INPUT:-\n",
        "#Abhishek 34848// max digit <= length of the input string is 8\n",
        "#Mayur 4739//similarly calculate further\n",
        "#Friends 2949\n",
        "#Yeah 9889// if condition fails then print X\n",
        "# For above input output is as below:=\n",
        "#OUTPUT:kueX"
      ],
      "execution_count": 0,
      "outputs": []
    },
    {
      "cell_type": "code",
      "metadata": {
        "id": "ZdIf9zrm8liy",
        "colab_type": "code",
        "colab": {}
      },
      "source": [
        "name=[\"\" for _ in range(4)]\n",
        "code=[0 for _ in range(4)]\n",
        "for i in range(4):\n",
        "  name[i],code[i]=input().split()\n",
        "code=list(map(lambda x:int(x),code))\n",
        "\n",
        "\n",
        "def max1(name,code):\n",
        "  n=len(name)\n",
        "  m=list(str(code))\n",
        "  max1=0\n",
        "  res=0\n",
        "  for i in range(len(m)):\n",
        "    if(max1<int(m[i])-1 and int(m[i])-1<n):\n",
        "      max1=int(m[i])-1\n",
        "      res=max1\n",
        "  if(res!=0):\n",
        "    return(name[res])\n",
        "  else:\n",
        "    return \"X\"\n",
        "\n",
        "\n",
        "for i in range(4):\n",
        "  print(max1(name[i],code[i]),end=\"\")"
      ],
      "execution_count": 0,
      "outputs": []
    },
    {
      "cell_type": "code",
      "metadata": {
        "id": "OHbrw_Y781u7",
        "colab_type": "code",
        "colab": {}
      },
      "source": [
        "#5.Given a String s,find length of the longest prefix which is also a suffix nonoverlapping:\n",
        "#Input:-abcdabc\n",
        "#Output:-3  (abc)"
      ],
      "execution_count": 0,
      "outputs": []
    },
    {
      "cell_type": "code",
      "metadata": {
        "id": "vxNqLQBm9PaB",
        "colab_type": "code",
        "colab": {
          "base_uri": "https://localhost:8080/",
          "height": 51
        },
        "outputId": "1e0e610c-7986-4933-a9af-c3cc73c409da"
      },
      "source": [
        "s=input()\n",
        "length=len(s)\n",
        "half=length//2\n",
        "for i in range(half,0,-1):\n",
        "  prefix=s[0:i]\n",
        "  suffix=s[length-i:length]\n",
        "  if(prefix == suffix):\n",
        "    print(len(prefix))\n",
        "    break"
      ],
      "execution_count": 37,
      "outputs": [
        {
          "output_type": "stream",
          "text": [
            "abcdabc\n",
            "3\n"
          ],
          "name": "stdout"
        }
      ]
    },
    {
      "cell_type": "code",
      "metadata": {
        "id": "OBbVetseD4Vm",
        "colab_type": "code",
        "colab": {}
      },
      "source": [
        "#6.Input:=QWert@821142\n",
        "#Output:=8412\n",
        "#Form the largest even number possible after extracting the unique digits and if not possible then return -1\n"
      ],
      "execution_count": 0,
      "outputs": []
    },
    {
      "cell_type": "code",
      "metadata": {
        "id": "9b_0uIfpERC4",
        "colab_type": "code",
        "colab": {
          "base_uri": "https://localhost:8080/",
          "height": 51
        },
        "outputId": "bebccd30-f600-45b3-ab71-ed6f39844b4f"
      },
      "source": [
        "import re\n",
        "s=input()\n",
        "l=list(set(list(re.findall(r'\\d+',s)[0])))\n",
        "l=list(map(lambda x:int(x),l))\n",
        "l.sort()\n",
        "x=0\n",
        "for i in l:\n",
        "  if(i%2==0):\n",
        "    x+=1\n",
        "if(x==0):\n",
        "  print(-1)\n",
        "else:\n",
        "  r=\"\"\n",
        "  for i in l:\n",
        "    if(i%2==0):\n",
        "      d=i\n",
        "      break\n",
        "  print(r)\n",
        "  for j in range(len(l)-1,-1,-1):\n",
        "    if(l[j]!=d):\n",
        "      r+=str(l[j])\n",
        "  r+=str(d)\n",
        "  print(r)"
      ],
      "execution_count": 66,
      "outputs": [
        {
          "output_type": "stream",
          "text": [
            "hgdhg73119755\n",
            "-1\n"
          ],
          "name": "stdout"
        }
      ]
    },
    {
      "cell_type": "code",
      "metadata": {
        "id": "bd-q_p03Ffah",
        "colab_type": "code",
        "colab": {}
      },
      "source": [
        "#7. Find longest substring of unique characters which is case insensitive\n",
        "#Input:-abcdabc\n",
        "#Output:-abcd\n",
        "#if length < 3 print -1"
      ],
      "execution_count": 0,
      "outputs": []
    },
    {
      "cell_type": "code",
      "metadata": {
        "id": "7rCGOw68MgXk",
        "colab_type": "code",
        "colab": {
          "base_uri": "https://localhost:8080/",
          "height": 51
        },
        "outputId": "b9569114-4f47-490a-d0dd-b8b5ef8760e9"
      },
      "source": [
        "s=input()\n",
        "n=len(s)\n",
        "maxlen=0\n",
        "substr=\"\"\n",
        "s1=\"\"\n",
        "for i in range(n-1):\n",
        "  substr+=s[i]\n",
        "  for j in range(i+1,n):\n",
        "    substr+=s[j]\n",
        "    if(len(substr)==len(set(substr))):\n",
        "      if(maxlen<len(substr)):\n",
        "        maxlen=len(substr)\n",
        "        s1=substr\n",
        "    else:\n",
        "      break\n",
        "if(maxlen<3):\n",
        "  print(-1)\n",
        "else:\n",
        "  print(s1)"
      ],
      "execution_count": 3,
      "outputs": [
        {
          "output_type": "stream",
          "text": [
            "abAca\n",
            "abAc\n"
          ],
          "name": "stdout"
        }
      ]
    },
    {
      "cell_type": "code",
      "metadata": {
        "id": "a_LdcQ5N_uiU",
        "colab_type": "code",
        "colab": {
          "base_uri": "https://localhost:8080/",
          "height": 34
        },
        "outputId": "376fefdc-dbd2-4f89-f5ca-c72c25f125bc"
      },
      "source": [
        "8."
      ],
      "execution_count": 5,
      "outputs": [
        {
          "output_type": "execute_result",
          "data": {
            "text/plain": [
              "8.0"
            ]
          },
          "metadata": {
            "tags": []
          },
          "execution_count": 5
        }
      ]
    },
    {
      "cell_type": "code",
      "metadata": {
        "id": "iShz5LjQL40p",
        "colab_type": "code",
        "colab": {
          "base_uri": "https://localhost:8080/",
          "height": 51
        },
        "outputId": "73685b04-aba0-41fd-f291-8e9f8a2233a6"
      },
      "source": [
        "t=input().split(',')\n",
        "for i in t:\n",
        "  temp=i.split(':')\n",
        "  name=temp[0]\n",
        "  digit=int(temp[1])\n",
        "  sum1=0\n",
        "  while(digit != 0):\n",
        "    d=digit%10\n",
        "    sum1+=pow(d,2)\n",
        "    digit=digit//10\n",
        "  if(sum1%2==0):\n",
        "    res=name[len(name)-2:len(name)]+name[:len(name)-2]\n",
        "  else:\n",
        "    res=name[1:]+name[0:1]\n",
        "  print(res,end=\" \")\n"
      ],
      "execution_count": 14,
      "outputs": [
        {
          "output_type": "stream",
          "text": [
            "abcd:1234,bcdgfhf:127836,sdjks:1245\n",
            "cdab cdgfhfb kssdj "
          ],
          "name": "stdout"
        }
      ]
    },
    {
      "cell_type": "code",
      "metadata": {
        "id": "hpNY0B_RVNjo",
        "colab_type": "code",
        "colab": {}
      },
      "source": [
        "#9."
      ],
      "execution_count": 0,
      "outputs": []
    },
    {
      "cell_type": "code",
      "metadata": {
        "id": "oZixZYtvMeR5",
        "colab_type": "code",
        "colab": {
          "base_uri": "https://localhost:8080/",
          "height": 51
        },
        "outputId": "a3299c4d-245b-44b0-b69f-66ed6751de2f"
      },
      "source": [
        "l=input().split(',')\n",
        "res=0\n",
        "for i in range(len(l)):\n",
        "  if(l[i]=='5'):\n",
        "    index1=i\n",
        "    break\n",
        "  else:\n",
        "    res+=int(l[i])\n",
        "j=index1\n",
        "s1=\"\"\n",
        "while(j<len(l)):\n",
        "  if(l[j]=='8'):\n",
        "    s1+=l[j]\n",
        "    index2=j\n",
        "    break\n",
        "  s1+=l[j]\n",
        "  j+=1\n",
        "k=index2+1\n",
        "while(k<len(l)):\n",
        "  res+=int(l[k])\n",
        "  k+=1\n",
        "res=res+int(s1)\n",
        "print(res)\n"
      ],
      "execution_count": 19,
      "outputs": [
        {
          "output_type": "stream",
          "text": [
            "3,2,6,5,1,4,8,9\n",
            "5168\n"
          ],
          "name": "stdout"
        }
      ]
    },
    {
      "cell_type": "code",
      "metadata": {
        "id": "-zsKwSTgbJ51",
        "colab_type": "code",
        "colab": {}
      },
      "source": [
        "#10."
      ],
      "execution_count": 0,
      "outputs": []
    },
    {
      "cell_type": "code",
      "metadata": {
        "id": "NarZg_jGfQS0",
        "colab_type": "code",
        "colab": {
          "base_uri": "https://localhost:8080/",
          "height": 68
        },
        "outputId": "e607176b-74cc-4d43-b8d2-a4bbee619326"
      },
      "source": [
        "n=int(input())\n",
        "l=input().split()\n",
        "l=list(set(l))\n",
        "print(len(l)-n)"
      ],
      "execution_count": 22,
      "outputs": [
        {
          "output_type": "stream",
          "text": [
            "3\n",
            "1 1 1 2 2 2 4 5 6\n",
            "2\n"
          ],
          "name": "stdout"
        }
      ]
    },
    {
      "cell_type": "code",
      "metadata": {
        "id": "ek2-wwFtjUe_",
        "colab_type": "code",
        "colab": {}
      },
      "source": [
        ""
      ],
      "execution_count": 0,
      "outputs": []
    }
  ]
}