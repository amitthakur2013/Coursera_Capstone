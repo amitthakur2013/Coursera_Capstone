{
  "nbformat": 4,
  "nbformat_minor": 0,
  "metadata": {
    "colab": {
      "name": "Four-Square.ipynb",
      "provenance": [],
      "collapsed_sections": [],
      "include_colab_link": true
    },
    "kernelspec": {
      "name": "python3",
      "display_name": "Python 3"
    }
  },
  "cells": [
    {
      "cell_type": "markdown",
      "metadata": {
        "id": "view-in-github",
        "colab_type": "text"
      },
      "source": [
        "<a href=\"https://colab.research.google.com/github/amitthakur2013/Coursera_Capstone/blob/master/Four_Square.ipynb\" target=\"_parent\"><img src=\"https://colab.research.google.com/assets/colab-badge.svg\" alt=\"Open In Colab\"/></a>"
      ]
    },
    {
      "cell_type": "code",
      "metadata": {
        "id": "GlUSetbPb4dk",
        "colab_type": "code",
        "colab": {
          "base_uri": "https://localhost:8080/",
          "height": 51
        },
        "outputId": "f14f6605-0900-48db-cc38-215d67407108"
      },
      "source": [
        "import requests\n",
        "import pandas as pd\n",
        "import numpy as np\n",
        "import random\n",
        "\n",
        "!pip install geopy\n",
        "from geopy.geocoders import Nominatim\n",
        "\n",
        "from IPython.display import Image\n",
        "from IPython.core.display import HTML\n",
        "\n",
        "#transforming json files into pandas data frame\n",
        "from pandas.io.json import json_normalize\n"
      ],
      "execution_count": 130,
      "outputs": [
        {
          "output_type": "stream",
          "text": [
            "Requirement already satisfied: geopy in /usr/local/lib/python3.6/dist-packages (1.17.0)\n",
            "Requirement already satisfied: geographiclib<2,>=1.49 in /usr/local/lib/python3.6/dist-packages (from geopy) (1.50)\n"
          ],
          "name": "stdout"
        }
      ]
    },
    {
      "cell_type": "code",
      "metadata": {
        "id": "nIEp9hXBdGmv",
        "colab_type": "code",
        "colab": {
          "base_uri": "https://localhost:8080/",
          "height": 238
        },
        "outputId": "6ac52a2a-df22-4566-db21-29c72799151a"
      },
      "source": [
        "!pip install folium\n",
        "import folium\n",
        "print('Folium installed')\n",
        "print('Libraries Imported!')"
      ],
      "execution_count": 131,
      "outputs": [
        {
          "output_type": "stream",
          "text": [
            "Requirement already satisfied: folium in /usr/local/lib/python3.6/dist-packages (0.8.3)\n",
            "Requirement already satisfied: requests in /usr/local/lib/python3.6/dist-packages (from folium) (2.21.0)\n",
            "Requirement already satisfied: branca>=0.3.0 in /usr/local/lib/python3.6/dist-packages (from folium) (0.3.1)\n",
            "Requirement already satisfied: numpy in /usr/local/lib/python3.6/dist-packages (from folium) (1.16.5)\n",
            "Requirement already satisfied: six in /usr/local/lib/python3.6/dist-packages (from folium) (1.12.0)\n",
            "Requirement already satisfied: jinja2 in /usr/local/lib/python3.6/dist-packages (from folium) (2.10.3)\n",
            "Requirement already satisfied: idna<2.9,>=2.5 in /usr/local/lib/python3.6/dist-packages (from requests->folium) (2.8)\n",
            "Requirement already satisfied: urllib3<1.25,>=1.21.1 in /usr/local/lib/python3.6/dist-packages (from requests->folium) (1.24.3)\n",
            "Requirement already satisfied: chardet<3.1.0,>=3.0.2 in /usr/local/lib/python3.6/dist-packages (from requests->folium) (3.0.4)\n",
            "Requirement already satisfied: certifi>=2017.4.17 in /usr/local/lib/python3.6/dist-packages (from requests->folium) (2019.9.11)\n",
            "Requirement already satisfied: MarkupSafe>=0.23 in /usr/local/lib/python3.6/dist-packages (from jinja2->folium) (1.1.1)\n",
            "Folium installed\n",
            "Libraries Imported!\n"
          ],
          "name": "stdout"
        }
      ]
    },
    {
      "cell_type": "markdown",
      "metadata": {
        "id": "H4sMx2-Cd7Xc",
        "colab_type": "text"
      },
      "source": [
        "**Define Foursquare Credentials and Version**"
      ]
    },
    {
      "cell_type": "code",
      "metadata": {
        "id": "DNioqi2odg-m",
        "colab_type": "code",
        "colab": {
          "base_uri": "https://localhost:8080/",
          "height": 68
        },
        "outputId": "53a69557-c509-4096-8fe8-d0a80df5ea92"
      },
      "source": [
        "CLIENT_ID='AFOZEA5RMASS1VRLPCC0RXUM04BT2E4LHPFCXUJJOGLII44V'\n",
        "CLIENT_SECRET='GUQ3NRZ5AD33VBLEP31WLPHBXMMQD2D2ESSTX5CU1B5XS4RK'\n",
        "VERSION=\"20191016\"\n",
        "LIMIT=30\n",
        "print('Your Credentials:-')\n",
        "print('CLIENT_ID: '+CLIENT_ID)\n",
        "print('CLIENT_SECRET '+CLIENT_SECRET)"
      ],
      "execution_count": 132,
      "outputs": [
        {
          "output_type": "stream",
          "text": [
            "Your Credentials:-\n",
            "CLIENT_ID: AFOZEA5RMASS1VRLPCC0RXUM04BT2E4LHPFCXUJJOGLII44V\n",
            "CLIENT_SECRET GUQ3NRZ5AD33VBLEP31WLPHBXMMQD2D2ESSTX5CU1B5XS4RK\n"
          ],
          "name": "stdout"
        }
      ]
    },
    {
      "cell_type": "markdown",
      "metadata": {
        "id": "ccKLuc2nejy_",
        "colab_type": "text"
      },
      "source": [
        "**Convert the addresss to its Latitue and Longitude values**"
      ]
    },
    {
      "cell_type": "code",
      "metadata": {
        "id": "06KwldtTee70",
        "colab_type": "code",
        "colab": {
          "base_uri": "https://localhost:8080/",
          "height": 34
        },
        "outputId": "8bcd9724-1685-4d01-b12f-f396d849d946"
      },
      "source": [
        "address='102 North End Ave, New York, NY'\n",
        "#address='saltlake, kolkata, west bengal, IN'\n",
        "geolocator=Nominatim(user_agent='foursquare_agent')\n",
        "location=geolocator.geocode(address)\n",
        "latitude=location.latitude\n",
        "longitude=location.longitude\n",
        "print(latitude, longitude)"
      ],
      "execution_count": 133,
      "outputs": [
        {
          "output_type": "stream",
          "text": [
            "40.7149555 -74.0153365\n"
          ],
          "name": "stdout"
        }
      ]
    },
    {
      "cell_type": "markdown",
      "metadata": {
        "id": "0OLCmD6CfYo7",
        "colab_type": "text"
      },
      "source": [
        "**To Search for a specific venues category**"
      ]
    },
    {
      "cell_type": "markdown",
      "metadata": {
        "id": "lbNwuFspfkBh",
        "colab_type": "text"
      },
      "source": [
        "***Let's define a query to search for italian food***"
      ]
    },
    {
      "cell_type": "code",
      "metadata": {
        "id": "9VNZrA_xfHpH",
        "colab_type": "code",
        "colab": {
          "base_uri": "https://localhost:8080/",
          "height": 34
        },
        "outputId": "e64957ae-c11e-4444-f291-9475feba5a82"
      },
      "source": [
        "search_query='Italian'\n",
        "radius=500\n",
        "print(search_query+'........OK!')"
      ],
      "execution_count": 134,
      "outputs": [
        {
          "output_type": "stream",
          "text": [
            "Italian........OK!\n"
          ],
          "name": "stdout"
        }
      ]
    },
    {
      "cell_type": "markdown",
      "metadata": {
        "id": "ZcFHCeetgB5P",
        "colab_type": "text"
      },
      "source": [
        "**Now let us define the url**"
      ]
    },
    {
      "cell_type": "code",
      "metadata": {
        "id": "oQIfrqQQf8Aa",
        "colab_type": "code",
        "colab": {
          "base_uri": "https://localhost:8080/",
          "height": 54
        },
        "outputId": "25375705-174c-4dbb-9a17-559af3c81c40"
      },
      "source": [
        "url='https://api.foursquare.com/v2/venues/search?client_id={}&client_secret={}&ll={},{}&v={}&query={}&radius={}&limit={}'.format(CLIENT_ID,CLIENT_SECRET,latitude,longitude,VERSION,search_query,radius,LIMIT)\n",
        "url"
      ],
      "execution_count": 135,
      "outputs": [
        {
          "output_type": "execute_result",
          "data": {
            "text/plain": [
              "'https://api.foursquare.com/v2/venues/search?client_id=AFOZEA5RMASS1VRLPCC0RXUM04BT2E4LHPFCXUJJOGLII44V&client_secret=GUQ3NRZ5AD33VBLEP31WLPHBXMMQD2D2ESSTX5CU1B5XS4RK&ll=40.7149555,-74.0153365&v=20191016&query=Italian&radius=500&limit=30'"
            ]
          },
          "metadata": {
            "tags": []
          },
          "execution_count": 135
        }
      ]
    },
    {
      "cell_type": "markdown",
      "metadata": {
        "id": "PfKHcFA2h17G",
        "colab_type": "text"
      },
      "source": [
        "**Send the get reques and analyze the results**"
      ]
    },
    {
      "cell_type": "code",
      "metadata": {
        "id": "itIRak85hqu0",
        "colab_type": "code",
        "colab": {
          "base_uri": "https://localhost:8080/",
          "height": 1000
        },
        "outputId": "d4fca894-a625-4526-ecd6-421d2fe06962"
      },
      "source": [
        "results=requests.get(url).json()\n",
        "results"
      ],
      "execution_count": 136,
      "outputs": [
        {
          "output_type": "execute_result",
          "data": {
            "text/plain": [
              "{'meta': {'code': 200, 'requestId': '5da88442396de0002caf6a0f'},\n",
              " 'response': {'venues': [{'categories': [{'icon': {'prefix': 'https://ss3.4sqi.net/img/categories_v2/food/pizza_',\n",
              "       'suffix': '.png'},\n",
              "      'id': '4bf58dd8d48988d1ca941735',\n",
              "      'name': 'Pizza Place',\n",
              "      'pluralName': 'Pizza Places',\n",
              "      'primary': True,\n",
              "      'shortName': 'Pizza'}],\n",
              "    'delivery': {'id': '294544',\n",
              "     'provider': {'icon': {'name': '/delivery_provider_seamless_20180129.png',\n",
              "       'prefix': 'https://fastly.4sqi.net/img/general/cap/',\n",
              "       'sizes': [40, 50]},\n",
              "      'name': 'seamless'},\n",
              "     'url': 'https://www.seamless.com/menu/harrys-italian-pizza-bar-225-murray-st-new-york/294544?affiliate=1131&utm_source=foursquare-affiliate-network&utm_medium=affiliate&utm_campaign=1131&utm_content=294544'},\n",
              "    'hasPerk': False,\n",
              "    'id': '4fa862b3e4b0ebff2f749f06',\n",
              "    'location': {'address': '225 Murray St',\n",
              "     'cc': 'US',\n",
              "     'city': 'New York',\n",
              "     'country': 'United States',\n",
              "     'distance': 58,\n",
              "     'formattedAddress': ['225 Murray St',\n",
              "      'New York, NY 10282',\n",
              "      'United States'],\n",
              "     'labeledLatLngs': [{'label': 'display',\n",
              "       'lat': 40.71521779064671,\n",
              "       'lng': -74.01473940209351}],\n",
              "     'lat': 40.71521779064671,\n",
              "     'lng': -74.01473940209351,\n",
              "     'postalCode': '10282',\n",
              "     'state': 'NY'},\n",
              "    'name': \"Harry's Italian Pizza Bar\",\n",
              "    'referralId': 'v-1571324994'},\n",
              "   {'categories': [{'icon': {'prefix': 'https://ss3.4sqi.net/img/categories_v2/food/default_',\n",
              "       'suffix': '.png'},\n",
              "      'id': '4d4b7105d754a06374d81259',\n",
              "      'name': 'Food',\n",
              "      'pluralName': 'Food',\n",
              "      'primary': True,\n",
              "      'shortName': 'Food'}],\n",
              "    'hasPerk': False,\n",
              "    'id': '4f3232e219836c91c7bfde94',\n",
              "    'location': {'address': '63 W Broadway',\n",
              "     'cc': 'US',\n",
              "     'city': 'New York',\n",
              "     'country': 'United States',\n",
              "     'distance': 446,\n",
              "     'formattedAddress': ['63 W Broadway',\n",
              "      'New York, NY 10007',\n",
              "      'United States'],\n",
              "     'labeledLatLngs': [{'label': 'display',\n",
              "       'lat': 40.71446,\n",
              "       'lng': -74.010086}],\n",
              "     'lat': 40.71446,\n",
              "     'lng': -74.010086,\n",
              "     'postalCode': '10007',\n",
              "     'state': 'NY'},\n",
              "    'name': 'Conca Cucina Italian Restaurant',\n",
              "    'referralId': 'v-1571324994'},\n",
              "   {'categories': [{'icon': {'prefix': 'https://ss3.4sqi.net/img/categories_v2/food/italian_',\n",
              "       'suffix': '.png'},\n",
              "      'id': '4bf58dd8d48988d110941735',\n",
              "      'name': 'Italian Restaurant',\n",
              "      'pluralName': 'Italian Restaurants',\n",
              "      'primary': True,\n",
              "      'shortName': 'Italian'}],\n",
              "    'hasPerk': False,\n",
              "    'id': '3fd66200f964a520f4e41ee3',\n",
              "    'location': {'address': '124 Chambers St',\n",
              "     'cc': 'US',\n",
              "     'city': 'New York',\n",
              "     'country': 'United States',\n",
              "     'crossStreet': 'btwn Church St & W Broadway',\n",
              "     'distance': 549,\n",
              "     'formattedAddress': ['124 Chambers St (btwn Church St & W Broadway)',\n",
              "      'New York, NY 10007',\n",
              "      'United States'],\n",
              "     'labeledLatLngs': [{'label': 'display',\n",
              "       'lat': 40.71533713859952,\n",
              "       'lng': -74.00884766217825}],\n",
              "     'lat': 40.71533713859952,\n",
              "     'lng': -74.00884766217825,\n",
              "     'postalCode': '10007',\n",
              "     'state': 'NY'},\n",
              "    'name': 'Ecco',\n",
              "    'referralId': 'v-1571324994'}]}}"
            ]
          },
          "metadata": {
            "tags": []
          },
          "execution_count": 136
        }
      ]
    },
    {
      "cell_type": "code",
      "metadata": {
        "id": "AhmZi0KkiCOs",
        "colab_type": "code",
        "colab": {
          "base_uri": "https://localhost:8080/",
          "height": 34
        },
        "outputId": "aacde69a-8264-483d-b880-bf2fb74279f7"
      },
      "source": [
        "import datetime\n",
        "datetime.datetime.now()"
      ],
      "execution_count": 137,
      "outputs": [
        {
          "output_type": "execute_result",
          "data": {
            "text/plain": [
              "datetime.datetime(2019, 10, 17, 15, 9, 55, 859630)"
            ]
          },
          "metadata": {
            "tags": []
          },
          "execution_count": 137
        }
      ]
    },
    {
      "cell_type": "code",
      "metadata": {
        "id": "SJTDrpKHklaW",
        "colab_type": "code",
        "colab": {
          "base_uri": "https://localhost:8080/",
          "height": 281
        },
        "outputId": "30ef4e28-6d32-41e1-8548-e5ad2e9ca1d0"
      },
      "source": [
        "venues= results['response']['venues']\n",
        "dataframe=json_normalize(venues)\n",
        "dataframe.head()"
      ],
      "execution_count": 140,
      "outputs": [
        {
          "output_type": "execute_result",
          "data": {
            "text/html": [
              "<div>\n",
              "<style scoped>\n",
              "    .dataframe tbody tr th:only-of-type {\n",
              "        vertical-align: middle;\n",
              "    }\n",
              "\n",
              "    .dataframe tbody tr th {\n",
              "        vertical-align: top;\n",
              "    }\n",
              "\n",
              "    .dataframe thead th {\n",
              "        text-align: right;\n",
              "    }\n",
              "</style>\n",
              "<table border=\"1\" class=\"dataframe\">\n",
              "  <thead>\n",
              "    <tr style=\"text-align: right;\">\n",
              "      <th></th>\n",
              "      <th>categories</th>\n",
              "      <th>delivery.id</th>\n",
              "      <th>delivery.provider.icon.name</th>\n",
              "      <th>delivery.provider.icon.prefix</th>\n",
              "      <th>delivery.provider.icon.sizes</th>\n",
              "      <th>delivery.provider.name</th>\n",
              "      <th>delivery.url</th>\n",
              "      <th>hasPerk</th>\n",
              "      <th>id</th>\n",
              "      <th>location.address</th>\n",
              "      <th>location.cc</th>\n",
              "      <th>location.city</th>\n",
              "      <th>location.country</th>\n",
              "      <th>location.crossStreet</th>\n",
              "      <th>location.distance</th>\n",
              "      <th>location.formattedAddress</th>\n",
              "      <th>location.labeledLatLngs</th>\n",
              "      <th>location.lat</th>\n",
              "      <th>location.lng</th>\n",
              "      <th>location.postalCode</th>\n",
              "      <th>location.state</th>\n",
              "      <th>name</th>\n",
              "      <th>referralId</th>\n",
              "    </tr>\n",
              "  </thead>\n",
              "  <tbody>\n",
              "    <tr>\n",
              "      <th>0</th>\n",
              "      <td>[{'id': '4bf58dd8d48988d1ca941735', 'name': 'P...</td>\n",
              "      <td>294544</td>\n",
              "      <td>/delivery_provider_seamless_20180129.png</td>\n",
              "      <td>https://fastly.4sqi.net/img/general/cap/</td>\n",
              "      <td>[40, 50]</td>\n",
              "      <td>seamless</td>\n",
              "      <td>https://www.seamless.com/menu/harrys-italian-p...</td>\n",
              "      <td>False</td>\n",
              "      <td>4fa862b3e4b0ebff2f749f06</td>\n",
              "      <td>225 Murray St</td>\n",
              "      <td>US</td>\n",
              "      <td>New York</td>\n",
              "      <td>United States</td>\n",
              "      <td>NaN</td>\n",
              "      <td>58</td>\n",
              "      <td>[225 Murray St, New York, NY 10282, United Sta...</td>\n",
              "      <td>[{'label': 'display', 'lat': 40.71521779064671...</td>\n",
              "      <td>40.715218</td>\n",
              "      <td>-74.014739</td>\n",
              "      <td>10282</td>\n",
              "      <td>NY</td>\n",
              "      <td>Harry's Italian Pizza Bar</td>\n",
              "      <td>v-1571324994</td>\n",
              "    </tr>\n",
              "    <tr>\n",
              "      <th>1</th>\n",
              "      <td>[{'id': '4d4b7105d754a06374d81259', 'name': 'F...</td>\n",
              "      <td>NaN</td>\n",
              "      <td>NaN</td>\n",
              "      <td>NaN</td>\n",
              "      <td>NaN</td>\n",
              "      <td>NaN</td>\n",
              "      <td>NaN</td>\n",
              "      <td>False</td>\n",
              "      <td>4f3232e219836c91c7bfde94</td>\n",
              "      <td>63 W Broadway</td>\n",
              "      <td>US</td>\n",
              "      <td>New York</td>\n",
              "      <td>United States</td>\n",
              "      <td>NaN</td>\n",
              "      <td>446</td>\n",
              "      <td>[63 W Broadway, New York, NY 10007, United Sta...</td>\n",
              "      <td>[{'label': 'display', 'lat': 40.71446, 'lng': ...</td>\n",
              "      <td>40.714460</td>\n",
              "      <td>-74.010086</td>\n",
              "      <td>10007</td>\n",
              "      <td>NY</td>\n",
              "      <td>Conca Cucina Italian Restaurant</td>\n",
              "      <td>v-1571324994</td>\n",
              "    </tr>\n",
              "    <tr>\n",
              "      <th>2</th>\n",
              "      <td>[{'id': '4bf58dd8d48988d110941735', 'name': 'I...</td>\n",
              "      <td>NaN</td>\n",
              "      <td>NaN</td>\n",
              "      <td>NaN</td>\n",
              "      <td>NaN</td>\n",
              "      <td>NaN</td>\n",
              "      <td>NaN</td>\n",
              "      <td>False</td>\n",
              "      <td>3fd66200f964a520f4e41ee3</td>\n",
              "      <td>124 Chambers St</td>\n",
              "      <td>US</td>\n",
              "      <td>New York</td>\n",
              "      <td>United States</td>\n",
              "      <td>btwn Church St &amp; W Broadway</td>\n",
              "      <td>549</td>\n",
              "      <td>[124 Chambers St (btwn Church St &amp; W Broadway)...</td>\n",
              "      <td>[{'label': 'display', 'lat': 40.71533713859952...</td>\n",
              "      <td>40.715337</td>\n",
              "      <td>-74.008848</td>\n",
              "      <td>10007</td>\n",
              "      <td>NY</td>\n",
              "      <td>Ecco</td>\n",
              "      <td>v-1571324994</td>\n",
              "    </tr>\n",
              "  </tbody>\n",
              "</table>\n",
              "</div>"
            ],
            "text/plain": [
              "                                          categories  ...    referralId\n",
              "0  [{'id': '4bf58dd8d48988d1ca941735', 'name': 'P...  ...  v-1571324994\n",
              "1  [{'id': '4d4b7105d754a06374d81259', 'name': 'F...  ...  v-1571324994\n",
              "2  [{'id': '4bf58dd8d48988d110941735', 'name': 'I...  ...  v-1571324994\n",
              "\n",
              "[3 rows x 23 columns]"
            ]
          },
          "metadata": {
            "tags": []
          },
          "execution_count": 140
        }
      ]
    },
    {
      "cell_type": "markdown",
      "metadata": {
        "id": "3nqp663DUwva",
        "colab_type": "text"
      },
      "source": [
        "**Define informations of interest and filter dataframe**"
      ]
    },
    {
      "cell_type": "code",
      "metadata": {
        "id": "jR47fLt956it",
        "colab_type": "code",
        "colab": {
          "base_uri": "https://localhost:8080/",
          "height": 281
        },
        "outputId": "666a8ed6-be6b-4d3b-e9e3-10e046c2a35a"
      },
      "source": [
        "#keep only columns containing venue name and containing information related to locations\n",
        "filtered_columns=['name','categories']+[col for col in dataframe.columns if col.startswith('location.')] + ['id']\n",
        "filtered_columns\n",
        "dataframe_filtered=dataframe.loc[:,filtered_columns]\n",
        "dataframe_filtered"
      ],
      "execution_count": 142,
      "outputs": [
        {
          "output_type": "execute_result",
          "data": {
            "text/html": [
              "<div>\n",
              "<style scoped>\n",
              "    .dataframe tbody tr th:only-of-type {\n",
              "        vertical-align: middle;\n",
              "    }\n",
              "\n",
              "    .dataframe tbody tr th {\n",
              "        vertical-align: top;\n",
              "    }\n",
              "\n",
              "    .dataframe thead th {\n",
              "        text-align: right;\n",
              "    }\n",
              "</style>\n",
              "<table border=\"1\" class=\"dataframe\">\n",
              "  <thead>\n",
              "    <tr style=\"text-align: right;\">\n",
              "      <th></th>\n",
              "      <th>name</th>\n",
              "      <th>categories</th>\n",
              "      <th>location.address</th>\n",
              "      <th>location.cc</th>\n",
              "      <th>location.city</th>\n",
              "      <th>location.country</th>\n",
              "      <th>location.crossStreet</th>\n",
              "      <th>location.distance</th>\n",
              "      <th>location.formattedAddress</th>\n",
              "      <th>location.labeledLatLngs</th>\n",
              "      <th>location.lat</th>\n",
              "      <th>location.lng</th>\n",
              "      <th>location.postalCode</th>\n",
              "      <th>location.state</th>\n",
              "      <th>id</th>\n",
              "    </tr>\n",
              "  </thead>\n",
              "  <tbody>\n",
              "    <tr>\n",
              "      <th>0</th>\n",
              "      <td>Harry's Italian Pizza Bar</td>\n",
              "      <td>[{'id': '4bf58dd8d48988d1ca941735', 'name': 'P...</td>\n",
              "      <td>225 Murray St</td>\n",
              "      <td>US</td>\n",
              "      <td>New York</td>\n",
              "      <td>United States</td>\n",
              "      <td>NaN</td>\n",
              "      <td>58</td>\n",
              "      <td>[225 Murray St, New York, NY 10282, United Sta...</td>\n",
              "      <td>[{'label': 'display', 'lat': 40.71521779064671...</td>\n",
              "      <td>40.715218</td>\n",
              "      <td>-74.014739</td>\n",
              "      <td>10282</td>\n",
              "      <td>NY</td>\n",
              "      <td>4fa862b3e4b0ebff2f749f06</td>\n",
              "    </tr>\n",
              "    <tr>\n",
              "      <th>1</th>\n",
              "      <td>Conca Cucina Italian Restaurant</td>\n",
              "      <td>[{'id': '4d4b7105d754a06374d81259', 'name': 'F...</td>\n",
              "      <td>63 W Broadway</td>\n",
              "      <td>US</td>\n",
              "      <td>New York</td>\n",
              "      <td>United States</td>\n",
              "      <td>NaN</td>\n",
              "      <td>446</td>\n",
              "      <td>[63 W Broadway, New York, NY 10007, United Sta...</td>\n",
              "      <td>[{'label': 'display', 'lat': 40.71446, 'lng': ...</td>\n",
              "      <td>40.714460</td>\n",
              "      <td>-74.010086</td>\n",
              "      <td>10007</td>\n",
              "      <td>NY</td>\n",
              "      <td>4f3232e219836c91c7bfde94</td>\n",
              "    </tr>\n",
              "    <tr>\n",
              "      <th>2</th>\n",
              "      <td>Ecco</td>\n",
              "      <td>[{'id': '4bf58dd8d48988d110941735', 'name': 'I...</td>\n",
              "      <td>124 Chambers St</td>\n",
              "      <td>US</td>\n",
              "      <td>New York</td>\n",
              "      <td>United States</td>\n",
              "      <td>btwn Church St &amp; W Broadway</td>\n",
              "      <td>549</td>\n",
              "      <td>[124 Chambers St (btwn Church St &amp; W Broadway)...</td>\n",
              "      <td>[{'label': 'display', 'lat': 40.71533713859952...</td>\n",
              "      <td>40.715337</td>\n",
              "      <td>-74.008848</td>\n",
              "      <td>10007</td>\n",
              "      <td>NY</td>\n",
              "      <td>3fd66200f964a520f4e41ee3</td>\n",
              "    </tr>\n",
              "  </tbody>\n",
              "</table>\n",
              "</div>"
            ],
            "text/plain": [
              "                              name  ...                        id\n",
              "0        Harry's Italian Pizza Bar  ...  4fa862b3e4b0ebff2f749f06\n",
              "1  Conca Cucina Italian Restaurant  ...  4f3232e219836c91c7bfde94\n",
              "2                             Ecco  ...  3fd66200f964a520f4e41ee3\n",
              "\n",
              "[3 rows x 15 columns]"
            ]
          },
          "metadata": {
            "tags": []
          },
          "execution_count": 142
        }
      ]
    },
    {
      "cell_type": "code",
      "metadata": {
        "id": "CNCKvJ52Vckr",
        "colab_type": "code",
        "colab": {
          "base_uri": "https://localhost:8080/",
          "height": 281
        },
        "outputId": "5f0b77c5-9cad-4977-a455-d1452ff36240"
      },
      "source": [
        "dataframe_filtered.columns=[column.split('.')[-1] for column in dataframe_filtered.columns]\n",
        "dataframe_filtered"
      ],
      "execution_count": 143,
      "outputs": [
        {
          "output_type": "execute_result",
          "data": {
            "text/html": [
              "<div>\n",
              "<style scoped>\n",
              "    .dataframe tbody tr th:only-of-type {\n",
              "        vertical-align: middle;\n",
              "    }\n",
              "\n",
              "    .dataframe tbody tr th {\n",
              "        vertical-align: top;\n",
              "    }\n",
              "\n",
              "    .dataframe thead th {\n",
              "        text-align: right;\n",
              "    }\n",
              "</style>\n",
              "<table border=\"1\" class=\"dataframe\">\n",
              "  <thead>\n",
              "    <tr style=\"text-align: right;\">\n",
              "      <th></th>\n",
              "      <th>name</th>\n",
              "      <th>categories</th>\n",
              "      <th>address</th>\n",
              "      <th>cc</th>\n",
              "      <th>city</th>\n",
              "      <th>country</th>\n",
              "      <th>crossStreet</th>\n",
              "      <th>distance</th>\n",
              "      <th>formattedAddress</th>\n",
              "      <th>labeledLatLngs</th>\n",
              "      <th>lat</th>\n",
              "      <th>lng</th>\n",
              "      <th>postalCode</th>\n",
              "      <th>state</th>\n",
              "      <th>id</th>\n",
              "    </tr>\n",
              "  </thead>\n",
              "  <tbody>\n",
              "    <tr>\n",
              "      <th>0</th>\n",
              "      <td>Harry's Italian Pizza Bar</td>\n",
              "      <td>[{'id': '4bf58dd8d48988d1ca941735', 'name': 'P...</td>\n",
              "      <td>225 Murray St</td>\n",
              "      <td>US</td>\n",
              "      <td>New York</td>\n",
              "      <td>United States</td>\n",
              "      <td>NaN</td>\n",
              "      <td>58</td>\n",
              "      <td>[225 Murray St, New York, NY 10282, United Sta...</td>\n",
              "      <td>[{'label': 'display', 'lat': 40.71521779064671...</td>\n",
              "      <td>40.715218</td>\n",
              "      <td>-74.014739</td>\n",
              "      <td>10282</td>\n",
              "      <td>NY</td>\n",
              "      <td>4fa862b3e4b0ebff2f749f06</td>\n",
              "    </tr>\n",
              "    <tr>\n",
              "      <th>1</th>\n",
              "      <td>Conca Cucina Italian Restaurant</td>\n",
              "      <td>[{'id': '4d4b7105d754a06374d81259', 'name': 'F...</td>\n",
              "      <td>63 W Broadway</td>\n",
              "      <td>US</td>\n",
              "      <td>New York</td>\n",
              "      <td>United States</td>\n",
              "      <td>NaN</td>\n",
              "      <td>446</td>\n",
              "      <td>[63 W Broadway, New York, NY 10007, United Sta...</td>\n",
              "      <td>[{'label': 'display', 'lat': 40.71446, 'lng': ...</td>\n",
              "      <td>40.714460</td>\n",
              "      <td>-74.010086</td>\n",
              "      <td>10007</td>\n",
              "      <td>NY</td>\n",
              "      <td>4f3232e219836c91c7bfde94</td>\n",
              "    </tr>\n",
              "    <tr>\n",
              "      <th>2</th>\n",
              "      <td>Ecco</td>\n",
              "      <td>[{'id': '4bf58dd8d48988d110941735', 'name': 'I...</td>\n",
              "      <td>124 Chambers St</td>\n",
              "      <td>US</td>\n",
              "      <td>New York</td>\n",
              "      <td>United States</td>\n",
              "      <td>btwn Church St &amp; W Broadway</td>\n",
              "      <td>549</td>\n",
              "      <td>[124 Chambers St (btwn Church St &amp; W Broadway)...</td>\n",
              "      <td>[{'label': 'display', 'lat': 40.71533713859952...</td>\n",
              "      <td>40.715337</td>\n",
              "      <td>-74.008848</td>\n",
              "      <td>10007</td>\n",
              "      <td>NY</td>\n",
              "      <td>3fd66200f964a520f4e41ee3</td>\n",
              "    </tr>\n",
              "  </tbody>\n",
              "</table>\n",
              "</div>"
            ],
            "text/plain": [
              "                              name  ...                        id\n",
              "0        Harry's Italian Pizza Bar  ...  4fa862b3e4b0ebff2f749f06\n",
              "1  Conca Cucina Italian Restaurant  ...  4f3232e219836c91c7bfde94\n",
              "2                             Ecco  ...  3fd66200f964a520f4e41ee3\n",
              "\n",
              "[3 rows x 15 columns]"
            ]
          },
          "metadata": {
            "tags": []
          },
          "execution_count": 143
        }
      ]
    },
    {
      "cell_type": "code",
      "metadata": {
        "id": "fNuHhEz8WU8d",
        "colab_type": "code",
        "colab": {
          "base_uri": "https://localhost:8080/",
          "height": 281
        },
        "outputId": "618dc627-c2be-4904-98c6-2d7d16feed76"
      },
      "source": [
        "# function that extracts the category of the venue\n",
        "def get_category_type(row):\n",
        "  try:\n",
        "    categories_list=row['categories']\n",
        "  except:\n",
        "    categories_list=row['venue.categories']\n",
        "  if len(categories_list)== 0:\n",
        "    return None\n",
        "  else:\n",
        "    return categories_list[0]['name']\n",
        "  \n",
        "#filter the categoryfor each row\n",
        "\n",
        "dataframe_filtered['categories']=dataframe_filtered.apply(get_category_type, axis=1)\n",
        "dataframe_filtered"
      ],
      "execution_count": 148,
      "outputs": [
        {
          "output_type": "execute_result",
          "data": {
            "text/html": [
              "<div>\n",
              "<style scoped>\n",
              "    .dataframe tbody tr th:only-of-type {\n",
              "        vertical-align: middle;\n",
              "    }\n",
              "\n",
              "    .dataframe tbody tr th {\n",
              "        vertical-align: top;\n",
              "    }\n",
              "\n",
              "    .dataframe thead th {\n",
              "        text-align: right;\n",
              "    }\n",
              "</style>\n",
              "<table border=\"1\" class=\"dataframe\">\n",
              "  <thead>\n",
              "    <tr style=\"text-align: right;\">\n",
              "      <th></th>\n",
              "      <th>name</th>\n",
              "      <th>categories</th>\n",
              "      <th>address</th>\n",
              "      <th>cc</th>\n",
              "      <th>city</th>\n",
              "      <th>country</th>\n",
              "      <th>crossStreet</th>\n",
              "      <th>distance</th>\n",
              "      <th>formattedAddress</th>\n",
              "      <th>labeledLatLngs</th>\n",
              "      <th>lat</th>\n",
              "      <th>lng</th>\n",
              "      <th>postalCode</th>\n",
              "      <th>state</th>\n",
              "      <th>id</th>\n",
              "    </tr>\n",
              "  </thead>\n",
              "  <tbody>\n",
              "    <tr>\n",
              "      <th>0</th>\n",
              "      <td>Harry's Italian Pizza Bar</td>\n",
              "      <td>Pizza Place</td>\n",
              "      <td>225 Murray St</td>\n",
              "      <td>US</td>\n",
              "      <td>New York</td>\n",
              "      <td>United States</td>\n",
              "      <td>NaN</td>\n",
              "      <td>58</td>\n",
              "      <td>[225 Murray St, New York, NY 10282, United Sta...</td>\n",
              "      <td>[{'label': 'display', 'lat': 40.71521779064671...</td>\n",
              "      <td>40.715218</td>\n",
              "      <td>-74.014739</td>\n",
              "      <td>10282</td>\n",
              "      <td>NY</td>\n",
              "      <td>4fa862b3e4b0ebff2f749f06</td>\n",
              "    </tr>\n",
              "    <tr>\n",
              "      <th>1</th>\n",
              "      <td>Conca Cucina Italian Restaurant</td>\n",
              "      <td>Food</td>\n",
              "      <td>63 W Broadway</td>\n",
              "      <td>US</td>\n",
              "      <td>New York</td>\n",
              "      <td>United States</td>\n",
              "      <td>NaN</td>\n",
              "      <td>446</td>\n",
              "      <td>[63 W Broadway, New York, NY 10007, United Sta...</td>\n",
              "      <td>[{'label': 'display', 'lat': 40.71446, 'lng': ...</td>\n",
              "      <td>40.714460</td>\n",
              "      <td>-74.010086</td>\n",
              "      <td>10007</td>\n",
              "      <td>NY</td>\n",
              "      <td>4f3232e219836c91c7bfde94</td>\n",
              "    </tr>\n",
              "    <tr>\n",
              "      <th>2</th>\n",
              "      <td>Ecco</td>\n",
              "      <td>Italian Restaurant</td>\n",
              "      <td>124 Chambers St</td>\n",
              "      <td>US</td>\n",
              "      <td>New York</td>\n",
              "      <td>United States</td>\n",
              "      <td>btwn Church St &amp; W Broadway</td>\n",
              "      <td>549</td>\n",
              "      <td>[124 Chambers St (btwn Church St &amp; W Broadway)...</td>\n",
              "      <td>[{'label': 'display', 'lat': 40.71533713859952...</td>\n",
              "      <td>40.715337</td>\n",
              "      <td>-74.008848</td>\n",
              "      <td>10007</td>\n",
              "      <td>NY</td>\n",
              "      <td>3fd66200f964a520f4e41ee3</td>\n",
              "    </tr>\n",
              "  </tbody>\n",
              "</table>\n",
              "</div>"
            ],
            "text/plain": [
              "                              name  ...                        id\n",
              "0        Harry's Italian Pizza Bar  ...  4fa862b3e4b0ebff2f749f06\n",
              "1  Conca Cucina Italian Restaurant  ...  4f3232e219836c91c7bfde94\n",
              "2                             Ecco  ...  3fd66200f964a520f4e41ee3\n",
              "\n",
              "[3 rows x 15 columns]"
            ]
          },
          "metadata": {
            "tags": []
          },
          "execution_count": 148
        }
      ]
    },
    {
      "cell_type": "code",
      "metadata": {
        "id": "F1y9bx1SZJHQ",
        "colab_type": "code",
        "colab": {
          "base_uri": "https://localhost:8080/",
          "height": 85
        },
        "outputId": "23feb80c-3e56-4ccb-c84d-c40ec7b36e8a"
      },
      "source": [
        "dataframe_filtered['name']"
      ],
      "execution_count": 150,
      "outputs": [
        {
          "output_type": "execute_result",
          "data": {
            "text/plain": [
              "0          Harry's Italian Pizza Bar\n",
              "1    Conca Cucina Italian Restaurant\n",
              "2                               Ecco\n",
              "Name: name, dtype: object"
            ]
          },
          "metadata": {
            "tags": []
          },
          "execution_count": 150
        }
      ]
    },
    {
      "cell_type": "code",
      "metadata": {
        "id": "KJ7XXg18Z5_V",
        "colab_type": "code",
        "colab": {
          "base_uri": "https://localhost:8080/",
          "height": 51
        },
        "outputId": "884ee9d4-3a11-486d-e1f9-b29f99f0877d"
      },
      "source": [
        "#generate map centered around the conrad hotel\n",
        "!conda install -c conda-forge folium=0.5.0 --yes\n",
        "import folium # plotting library\n",
        "venues_map = folium.Map(location=[latitude, longitude], zoom_start=13)\n",
        "\n",
        "# add a red circle marker to represent the Conrad Hotel\n",
        "folium.CircleMarker(\n",
        "    [latitude, longitude],\n",
        "    radius=10,\n",
        "    color='red',\n",
        "    popup='Conrad Hotel',\n",
        "    fill = True,\n",
        "    fill_color = 'red',\n",
        "    fill_opacity = 0.6\n",
        ").add_to(venues_map)"
      ],
      "execution_count": 155,
      "outputs": [
        {
          "output_type": "stream",
          "text": [
            "/bin/bash: conda: command not found\n"
          ],
          "name": "stdout"
        },
        {
          "output_type": "execute_result",
          "data": {
            "text/plain": [
              "<folium.vector_layers.CircleMarker at 0x7fd3b600fe80>"
            ]
          },
          "metadata": {
            "tags": []
          },
          "execution_count": 155
        }
      ]
    },
    {
      "cell_type": "code",
      "metadata": {
        "id": "OwpCC2XPbMVQ",
        "colab_type": "code",
        "colab": {}
      },
      "source": [
        "venues_map\n",
        "\n",
        "#Now add the italian restaurants as blue marks\n",
        "for lat, lng, label in zip(dataframe_filtered.lat, dataframe_filtered.lng,dataframe_filtered.categories):\n",
        "  folium.CircleMarker(\n",
        "      [lat, lng],\n",
        "      radius=5,\n",
        "      color='blue',\n",
        "      fill=True,\n",
        "      fill_color='blue',\n",
        "      fill_opacity=0.6\n",
        "  ).add_to(venues_map)\n",
        "  "
      ],
      "execution_count": 0,
      "outputs": []
    },
    {
      "cell_type": "code",
      "metadata": {
        "id": "qy8okSJFcwOt",
        "colab_type": "code",
        "colab": {
          "base_uri": "https://localhost:8080/",
          "height": 755
        },
        "outputId": "5edf035b-42b5-45ef-bab4-30d8ba2cb8be"
      },
      "source": [
        "#Display Map\n",
        "venues_map"
      ],
      "execution_count": 159,
      "outputs": [
        {
          "output_type": "execute_result",
          "data": {
            "text/html": [
              "<div style=\"width:100%;\"><div style=\"position:relative;width:100%;height:0;padding-bottom:60%;\"><iframe src=\"data:text/html;charset=utf-8;base64,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\" style=\"position:absolute;width:100%;height:100%;left:0;top:0;border:none !important;\" allowfullscreen webkitallowfullscreen mozallowfullscreen></iframe></div></div>"
            ],
            "text/plain": [
              "<folium.folium.Map at 0x7fd3b600f550>"
            ]
          },
          "metadata": {
            "tags": []
          },
          "execution_count": 159
        }
      ]
    },
    {
      "cell_type": "markdown",
      "metadata": {
        "id": "irUqid-CeoYP",
        "colab_type": "text"
      },
      "source": [
        "## **2. Explore a given Venue**"
      ]
    },
    {
      "cell_type": "code",
      "metadata": {
        "id": "BSMrgXyGeDHP",
        "colab_type": "code",
        "colab": {
          "base_uri": "https://localhost:8080/",
          "height": 54
        },
        "outputId": "d2f3278f-922e-438a-a7b0-a7e01a29abe0"
      },
      "source": [
        "#Lets explore the closest italian restaurant\n",
        "venue_id=dataframe_filtered.id[0] #ID of Harry's Italian Pizza bar\n",
        "url = 'https://api.foursquare.com/v2/venues/{}?client_id={}&client_secret={}&v={}'.format(venue_id, CLIENT_ID, CLIENT_SECRET, VERSION)\n",
        "url"
      ],
      "execution_count": 163,
      "outputs": [
        {
          "output_type": "execute_result",
          "data": {
            "text/plain": [
              "'https://api.foursquare.com/v2/venues/4fa862b3e4b0ebff2f749f06?client_id=AFOZEA5RMASS1VRLPCC0RXUM04BT2E4LHPFCXUJJOGLII44V&client_secret=GUQ3NRZ5AD33VBLEP31WLPHBXMMQD2D2ESSTX5CU1B5XS4RK&v=20191016'"
            ]
          },
          "metadata": {
            "tags": []
          },
          "execution_count": 163
        }
      ]
    },
    {
      "cell_type": "markdown",
      "metadata": {
        "id": "RP_FkpEFgCcd",
        "colab_type": "text"
      },
      "source": [
        "**Send Get Requests for Result**"
      ]
    },
    {
      "cell_type": "code",
      "metadata": {
        "id": "XYqSiP_gfBZW",
        "colab_type": "code",
        "colab": {
          "base_uri": "https://localhost:8080/",
          "height": 1000
        },
        "outputId": "821e6e32-591f-42f2-a1b7-cc30cbc4541b"
      },
      "source": [
        "result=requests.get(url).json()\n",
        "print(result['response']['venue'].keys())\n",
        "result['response']['venue']"
      ],
      "execution_count": 164,
      "outputs": [
        {
          "output_type": "stream",
          "text": [
            "dict_keys(['id', 'name', 'contact', 'location', 'canonicalUrl', 'categories', 'verified', 'stats', 'url', 'price', 'hasMenu', 'likes', 'dislike', 'ok', 'rating', 'ratingColor', 'ratingSignals', 'delivery', 'menu', 'allowMenuUrlEdit', 'beenHere', 'specials', 'photos', 'reasons', 'hereNow', 'createdAt', 'tips', 'shortUrl', 'timeZone', 'listed', 'hours', 'popular', 'pageUpdates', 'inbox', 'attributes', 'bestPhoto', 'colors'])\n"
          ],
          "name": "stdout"
        },
        {
          "output_type": "execute_result",
          "data": {
            "text/plain": [
              "{'allowMenuUrlEdit': True,\n",
              " 'attributes': {'groups': [{'count': 1,\n",
              "    'items': [{'displayName': 'Price', 'displayValue': '$$', 'priceTier': 2}],\n",
              "    'name': 'Price',\n",
              "    'summary': '$$',\n",
              "    'type': 'price'},\n",
              "   {'count': 7,\n",
              "    'items': [{'displayName': 'Credit Cards',\n",
              "      'displayValue': 'Yes (incl. American Express)'}],\n",
              "    'name': 'Credit Cards',\n",
              "    'summary': 'Credit Cards',\n",
              "    'type': 'payments'},\n",
              "   {'count': 1,\n",
              "    'items': [{'displayName': 'Outdoor Seating', 'displayValue': 'Yes'}],\n",
              "    'name': 'Outdoor Seating',\n",
              "    'summary': 'Outdoor Seating',\n",
              "    'type': 'outdoorSeating'},\n",
              "   {'count': 8,\n",
              "    'items': [{'displayName': 'Brunch', 'displayValue': 'Brunch'},\n",
              "     {'displayName': 'Lunch', 'displayValue': 'Lunch'},\n",
              "     {'displayName': 'Dinner', 'displayValue': 'Dinner'},\n",
              "     {'displayName': 'Happy Hour', 'displayValue': 'Happy Hour'}],\n",
              "    'name': 'Menus',\n",
              "    'summary': 'Happy Hour, Brunch & more',\n",
              "    'type': 'serves'},\n",
              "   {'count': 5,\n",
              "    'items': [{'displayName': 'Beer', 'displayValue': 'Beer'},\n",
              "     {'displayName': 'Wine', 'displayValue': 'Wine'},\n",
              "     {'displayName': 'Cocktails', 'displayValue': 'Cocktails'}],\n",
              "    'name': 'Drinks',\n",
              "    'summary': 'Beer, Wine & Cocktails',\n",
              "    'type': 'drinks'},\n",
              "   {'count': 5,\n",
              "    'items': [{'displayName': 'Delivery', 'displayValue': 'Delivery'}],\n",
              "    'name': 'Dining Options',\n",
              "    'summary': 'Delivery',\n",
              "    'type': 'diningOptions'}]},\n",
              " 'beenHere': {'count': 0,\n",
              "  'lastCheckinExpiredAt': 0,\n",
              "  'marked': False,\n",
              "  'unconfirmedCount': 0},\n",
              " 'bestPhoto': {'createdAt': 1336776717,\n",
              "  'height': 640,\n",
              "  'id': '4fad980de4b091b4626c3633',\n",
              "  'prefix': 'https://fastly.4sqi.net/img/general/',\n",
              "  'source': {'name': 'Foursquare for Android',\n",
              "   'url': 'https://foursquare.com/download/#/android'},\n",
              "  'suffix': '/ya1iQFI7pLjuIJp1PGDKlrZS3OJdHCF7tpILMmjv_2w.jpg',\n",
              "  'visibility': 'public',\n",
              "  'width': 480},\n",
              " 'canonicalUrl': 'https://foursquare.com/v/harrys-italian-pizza-bar/4fa862b3e4b0ebff2f749f06',\n",
              " 'categories': [{'icon': {'prefix': 'https://ss3.4sqi.net/img/categories_v2/food/pizza_',\n",
              "    'suffix': '.png'},\n",
              "   'id': '4bf58dd8d48988d1ca941735',\n",
              "   'name': 'Pizza Place',\n",
              "   'pluralName': 'Pizza Places',\n",
              "   'primary': True,\n",
              "   'shortName': 'Pizza'},\n",
              "  {'icon': {'prefix': 'https://ss3.4sqi.net/img/categories_v2/food/italian_',\n",
              "    'suffix': '.png'},\n",
              "   'id': '4bf58dd8d48988d110941735',\n",
              "   'name': 'Italian Restaurant',\n",
              "   'pluralName': 'Italian Restaurants',\n",
              "   'shortName': 'Italian'}],\n",
              " 'colors': {'algoVersion': 3,\n",
              "  'highlightColor': {'photoId': '4fad980de4b091b4626c3633',\n",
              "   'value': -13619152},\n",
              "  'highlightTextColor': {'photoId': '4fad980de4b091b4626c3633', 'value': -1}},\n",
              " 'contact': {'formattedPhone': '(212) 608-1007', 'phone': '2126081007'},\n",
              " 'createdAt': 1336435379,\n",
              " 'delivery': {'id': '294544',\n",
              "  'provider': {'icon': {'name': '/delivery_provider_seamless_20180129.png',\n",
              "    'prefix': 'https://fastly.4sqi.net/img/general/cap/',\n",
              "    'sizes': [40, 50]},\n",
              "   'name': 'seamless'},\n",
              "  'url': 'https://www.seamless.com/menu/harrys-italian-pizza-bar-225-murray-st-new-york/294544?affiliate=1131&utm_source=foursquare-affiliate-network&utm_medium=affiliate&utm_campaign=1131&utm_content=294544'},\n",
              " 'dislike': False,\n",
              " 'hasMenu': True,\n",
              " 'hereNow': {'count': 0, 'groups': [], 'summary': 'Nobody here'},\n",
              " 'hours': {'dayData': [],\n",
              "  'isLocalHoliday': False,\n",
              "  'isOpen': True,\n",
              "  'richStatus': {'entities': [], 'text': 'Open until Midnight'},\n",
              "  'status': 'Open until Midnight',\n",
              "  'timeframes': [{'days': 'Mon–Wed, Sun',\n",
              "    'open': [{'renderedTime': '11:30 AM–11:00 PM'}],\n",
              "    'segments': []},\n",
              "   {'days': 'Thu–Sat',\n",
              "    'includesToday': True,\n",
              "    'open': [{'renderedTime': '11:30 AM–Midnight'}],\n",
              "    'segments': []}]},\n",
              " 'id': '4fa862b3e4b0ebff2f749f06',\n",
              " 'inbox': {'count': 0, 'items': []},\n",
              " 'likes': {'count': 120,\n",
              "  'groups': [{'count': 120, 'items': [], 'type': 'others'}],\n",
              "  'summary': '120 Likes'},\n",
              " 'listed': {'count': 54,\n",
              "  'groups': [{'count': 54,\n",
              "    'items': [{'canonicalUrl': 'https://foursquare.com/becca_mcarthur/list/manhattan-haunts',\n",
              "      'collaborative': False,\n",
              "      'createdAt': 1336094672,\n",
              "      'description': '',\n",
              "      'editable': False,\n",
              "      'followers': {'count': 22},\n",
              "      'id': '4fa32fd0e4b04193744746b1',\n",
              "      'listItems': {'count': 187,\n",
              "       'items': [{'createdAt': 1342934485,\n",
              "         'id': 'v4fa862b3e4b0ebff2f749f06'}]},\n",
              "      'name': 'Manhattan Haunts',\n",
              "      'photo': {'createdAt': 1317849414,\n",
              "       'height': 330,\n",
              "       'id': '4e8cc9461081e3b3544e12e5',\n",
              "       'prefix': 'https://fastly.4sqi.net/img/general/',\n",
              "       'suffix': '/0NLVU2HC1JF4DXIMKWUFW3QBUT31DC11EFNYYHMJG3NDWAPS.jpg',\n",
              "       'user': {'firstName': 'Time Out New York',\n",
              "        'gender': 'none',\n",
              "        'id': '742542',\n",
              "        'photo': {'prefix': 'https://fastly.4sqi.net/img/user/',\n",
              "         'suffix': '/XXHKCBSQHBORZNSR.jpg'},\n",
              "        'type': 'page'},\n",
              "       'visibility': 'public',\n",
              "       'width': 492},\n",
              "      'public': True,\n",
              "      'type': 'others',\n",
              "      'updatedAt': 1380845377,\n",
              "      'url': '/becca_mcarthur/list/manhattan-haunts',\n",
              "      'user': {'firstName': 'Becca',\n",
              "       'gender': 'female',\n",
              "       'id': '24592223',\n",
              "       'lastName': 'McArthur',\n",
              "       'photo': {'prefix': 'https://fastly.4sqi.net/img/user/',\n",
              "        'suffix': '/24592223-RAW2UYM0GIB1U40K.jpg'}}},\n",
              "     {'canonicalUrl': 'https://foursquare.com/kinosfault/list/usa-nyc-man-fidi',\n",
              "      'collaborative': False,\n",
              "      'createdAt': 1336836475,\n",
              "      'description': 'Where to go for decent eats in the restaurant wasteland of Downtown NYC aka FiDi, along with Tribeca & Battery Park City.',\n",
              "      'editable': False,\n",
              "      'followers': {'count': 20},\n",
              "      'id': '4fae817be4b085f6b2a74d19',\n",
              "      'listItems': {'count': 273,\n",
              "       'items': [{'createdAt': 1373909433,\n",
              "         'id': 'v4fa862b3e4b0ebff2f749f06'}]},\n",
              "      'name': 'USA NYC MAN FiDi',\n",
              "      'photo': {'createdAt': 1436043666,\n",
              "       'height': 960,\n",
              "       'id': '55984992498e13ba75e353bb',\n",
              "       'prefix': 'https://fastly.4sqi.net/img/general/',\n",
              "       'suffix': '/12113441_iOa6Uh-Xi8bhj2-gpzkkw8MKiAIs7RmOcz_RM7m8ink.jpg',\n",
              "       'user': {'firstName': 'Kino',\n",
              "        'gender': 'male',\n",
              "        'id': '12113441',\n",
              "        'photo': {'prefix': 'https://fastly.4sqi.net/img/user/',\n",
              "         'suffix': '/12113441-K5HTHFLU2MUCM0CM.jpg'}},\n",
              "       'visibility': 'public',\n",
              "       'width': 540},\n",
              "      'public': True,\n",
              "      'type': 'others',\n",
              "      'updatedAt': 1556754919,\n",
              "      'url': '/kinosfault/list/usa-nyc-man-fidi',\n",
              "      'user': {'firstName': 'Kino',\n",
              "       'gender': 'male',\n",
              "       'id': '12113441',\n",
              "       'photo': {'prefix': 'https://fastly.4sqi.net/img/user/',\n",
              "        'suffix': '/12113441-K5HTHFLU2MUCM0CM.jpg'}}},\n",
              "     {'canonicalUrl': 'https://foursquare.com/rickr7/list/nyc-resturants',\n",
              "      'collaborative': True,\n",
              "      'createdAt': 1339944944,\n",
              "      'description': '',\n",
              "      'editable': False,\n",
              "      'followers': {'count': 12},\n",
              "      'id': '4fddeff0e4b0e078037ac0d3',\n",
              "      'listItems': {'count': 197,\n",
              "       'items': [{'createdAt': 1514680908,\n",
              "         'id': 't54ed3b13498e857fd7dbb6fc'}]},\n",
              "      'name': 'NYC Resturants',\n",
              "      'photo': {'createdAt': 1349704979,\n",
              "       'height': 800,\n",
              "       'id': '5072dd13e4b09145cdf782d1',\n",
              "       'prefix': 'https://fastly.4sqi.net/img/general/',\n",
              "       'suffix': '/208205_fGh2OuAZ9qJ4agbAA5wMVNOSIm9kNUlRtNwj1N-adqg.jpg',\n",
              "       'user': {'firstName': 'Thalia',\n",
              "        'gender': 'female',\n",
              "        'id': '208205',\n",
              "        'lastName': 'K',\n",
              "        'photo': {'prefix': 'https://fastly.4sqi.net/img/user/',\n",
              "         'suffix': '/SNOOLCAW2AG04ZKD.jpg'}},\n",
              "       'visibility': 'public',\n",
              "       'width': 800},\n",
              "      'public': True,\n",
              "      'type': 'others',\n",
              "      'updatedAt': 1569752526,\n",
              "      'url': '/rickr7/list/nyc-resturants',\n",
              "      'user': {'firstName': 'Richard',\n",
              "       'gender': 'male',\n",
              "       'id': '21563126',\n",
              "       'lastName': 'Revilla',\n",
              "       'photo': {'prefix': 'https://fastly.4sqi.net/img/user/',\n",
              "        'suffix': '/21563126_v05J1KPw_SVj6Ehq9g8B9jeAGjFUMsU5QGl-NZ8inUQ7pKQm5bKplW37EmR7jS2A7GYPBBAtl.jpg'}}},\n",
              "     {'canonicalUrl': 'https://foursquare.com/sweetiewill/list/foodie-love-in-ny--02',\n",
              "      'collaborative': False,\n",
              "      'createdAt': 1382467210,\n",
              "      'description': '',\n",
              "      'editable': False,\n",
              "      'followers': {'count': 7},\n",
              "      'id': '5266c68a498e7c667807fe09',\n",
              "      'listItems': {'count': 200,\n",
              "       'items': [{'createdAt': 1386809936,\n",
              "         'id': 'v4fa862b3e4b0ebff2f749f06'}]},\n",
              "      'name': 'Foodie Love in NY - 02',\n",
              "      'public': True,\n",
              "      'type': 'others',\n",
              "      'updatedAt': 1391995585,\n",
              "      'url': '/sweetiewill/list/foodie-love-in-ny--02',\n",
              "      'user': {'firstName': 'WiLL',\n",
              "       'gender': 'male',\n",
              "       'id': '547977',\n",
              "       'photo': {'prefix': 'https://fastly.4sqi.net/img/user/',\n",
              "        'suffix': '/-Q5NYGDMFDMOITQRR.jpg'}}}],\n",
              "    'name': 'Lists from other people',\n",
              "    'type': 'others'}]},\n",
              " 'location': {'address': '225 Murray St',\n",
              "  'cc': 'US',\n",
              "  'city': 'New York',\n",
              "  'country': 'United States',\n",
              "  'formattedAddress': ['225 Murray St', 'New York, NY 10282', 'United States'],\n",
              "  'labeledLatLngs': [{'label': 'display',\n",
              "    'lat': 40.71521779064671,\n",
              "    'lng': -74.01473940209351}],\n",
              "  'lat': 40.71521779064671,\n",
              "  'lng': -74.01473940209351,\n",
              "  'postalCode': '10282',\n",
              "  'state': 'NY'},\n",
              " 'menu': {'anchor': 'View Menu',\n",
              "  'label': 'Menu',\n",
              "  'mobileUrl': 'https://foursquare.com/v/4fa862b3e4b0ebff2f749f06/device_menu',\n",
              "  'type': 'Menu',\n",
              "  'url': 'https://foursquare.com/v/harrys-italian-pizza-bar/4fa862b3e4b0ebff2f749f06/menu'},\n",
              " 'name': \"Harry's Italian Pizza Bar\",\n",
              " 'ok': False,\n",
              " 'pageUpdates': {'count': 0, 'items': []},\n",
              " 'photos': {'count': 149,\n",
              "  'groups': [{'count': 0,\n",
              "    'items': [],\n",
              "    'name': \"Friends' check-in photos\",\n",
              "    'type': 'checkin'},\n",
              "   {'count': 149,\n",
              "    'items': [{'createdAt': 1336776717,\n",
              "      'height': 640,\n",
              "      'id': '4fad980de4b091b4626c3633',\n",
              "      'prefix': 'https://fastly.4sqi.net/img/general/',\n",
              "      'source': {'name': 'Foursquare for Android',\n",
              "       'url': 'https://foursquare.com/download/#/android'},\n",
              "      'suffix': '/ya1iQFI7pLjuIJp1PGDKlrZS3OJdHCF7tpILMmjv_2w.jpg',\n",
              "      'user': {'firstName': 'Leony',\n",
              "       'gender': 'none',\n",
              "       'id': '13676709',\n",
              "       'lastName': 'Naciri',\n",
              "       'photo': {'prefix': 'https://fastly.4sqi.net/img/user/',\n",
              "        'suffix': '/T0ANFNGNMCHUDEUE.jpg'}},\n",
              "      'visibility': 'public',\n",
              "      'width': 480}],\n",
              "    'name': 'Venue photos',\n",
              "    'type': 'venue'}],\n",
              "  'summary': '0 photos'},\n",
              " 'popular': {'isLocalHoliday': False,\n",
              "  'isOpen': True,\n",
              "  'richStatus': {'entities': [], 'text': 'Likely open'},\n",
              "  'status': 'Likely open',\n",
              "  'timeframes': [{'days': 'Today',\n",
              "    'includesToday': True,\n",
              "    'open': [{'renderedTime': 'Noon–2:00 PM'},\n",
              "     {'renderedTime': '5:00 PM–10:00 PM'}],\n",
              "    'segments': []},\n",
              "   {'days': 'Fri',\n",
              "    'open': [{'renderedTime': 'Noon–3:00 PM'},\n",
              "     {'renderedTime': '5:00 PM–11:00 PM'}],\n",
              "    'segments': []},\n",
              "   {'days': 'Sat',\n",
              "    'open': [{'renderedTime': 'Noon–4:00 PM'},\n",
              "     {'renderedTime': '6:00 PM–11:00 PM'}],\n",
              "    'segments': []},\n",
              "   {'days': 'Sun',\n",
              "    'open': [{'renderedTime': 'Noon–3:00 PM'},\n",
              "     {'renderedTime': '5:00 PM–8:00 PM'}],\n",
              "    'segments': []},\n",
              "   {'days': 'Mon',\n",
              "    'open': [{'renderedTime': 'Noon–2:00 PM'},\n",
              "     {'renderedTime': '6:00 PM–8:00 PM'}],\n",
              "    'segments': []},\n",
              "   {'days': 'Tue–Wed',\n",
              "    'open': [{'renderedTime': 'Noon–2:00 PM'},\n",
              "     {'renderedTime': '5:00 PM–10:00 PM'}],\n",
              "    'segments': []}]},\n",
              " 'price': {'currency': '$', 'message': 'Moderate', 'tier': 2},\n",
              " 'rating': 7.0,\n",
              " 'ratingColor': 'C5DE35',\n",
              " 'ratingSignals': 213,\n",
              " 'reasons': {'count': 1,\n",
              "  'items': [{'reasonName': 'rawLikesReason',\n",
              "    'summary': 'Lots of people like this place',\n",
              "    'type': 'general'}]},\n",
              " 'shortUrl': 'http://4sq.com/JNblHV',\n",
              " 'specials': {'count': 0, 'items': []},\n",
              " 'stats': {'tipCount': 57},\n",
              " 'timeZone': 'America/New_York',\n",
              " 'tips': {'count': 57,\n",
              "  'groups': [{'count': 57,\n",
              "    'items': [{'agreeCount': 4,\n",
              "      'canonicalUrl': 'https://foursquare.com/item/53d27909498e0523841340b6',\n",
              "      'createdAt': 1406302473,\n",
              "      'disagreeCount': 0,\n",
              "      'id': '53d27909498e0523841340b6',\n",
              "      'lang': 'en',\n",
              "      'likes': {'count': 4,\n",
              "       'groups': [{'count': 4,\n",
              "         'items': [{'firstName': 'P.',\n",
              "           'gender': 'male',\n",
              "           'id': '369426',\n",
              "           'lastName': 'M.',\n",
              "           'photo': {'prefix': 'https://fastly.4sqi.net/img/user/',\n",
              "            'suffix': '/JPQYUWJKUT0H2OO4.jpg'}},\n",
              "          {'firstName': 'Diane',\n",
              "           'gender': 'female',\n",
              "           'id': '87587879',\n",
              "           'lastName': 'Danneels',\n",
              "           'photo': {'prefix': 'https://fastly.4sqi.net/img/user/',\n",
              "            'suffix': '/87587879-ESLRSZLQ2CBE2P4W.jpg'}},\n",
              "          {'firstName': 'Tim',\n",
              "           'gender': 'male',\n",
              "           'id': '87591341',\n",
              "           'lastName': 'Sheehan',\n",
              "           'photo': {'prefix': 'https://fastly.4sqi.net/img/user/',\n",
              "            'suffix': '/-Z4YK4VKE0JSVXIY1.jpg'}},\n",
              "          {'firstName': 'TenantKing.com',\n",
              "           'gender': 'none',\n",
              "           'id': '87473404',\n",
              "           'photo': {'prefix': 'https://fastly.4sqi.net/img/user/',\n",
              "            'suffix': '/87473404-HI5DTBTK0HX401CA.png'},\n",
              "           'type': 'page'}],\n",
              "         'type': 'others'}],\n",
              "       'summary': '4 likes'},\n",
              "      'logView': True,\n",
              "      'text': \"Harry's Italian Pizza bar is known for it's amazing pizza, but did you know that the brunches here are amazing too? Try the Nutella French toast and we know you'll be sold.\",\n",
              "      'todo': {'count': 0},\n",
              "      'type': 'user',\n",
              "      'user': {'firstName': 'TenantKing.com',\n",
              "       'gender': 'none',\n",
              "       'id': '87473404',\n",
              "       'photo': {'prefix': 'https://fastly.4sqi.net/img/user/',\n",
              "        'suffix': '/87473404-HI5DTBTK0HX401CA.png'},\n",
              "       'type': 'page'}}],\n",
              "    'name': 'All tips',\n",
              "    'type': 'others'}]},\n",
              " 'url': 'http://harrysitalian.com',\n",
              " 'verified': False}"
            ]
          },
          "metadata": {
            "tags": []
          },
          "execution_count": 164
        }
      ]
    },
    {
      "cell_type": "code",
      "metadata": {
        "id": "fYn2rrGtgaoE",
        "colab_type": "code",
        "colab": {
          "base_uri": "https://localhost:8080/",
          "height": 34
        },
        "outputId": "1b989c45-1457-4346-b377-cfde75084dad"
      },
      "source": [
        "#Get the venues of overall rating\n",
        "\n",
        "try:\n",
        "  print(result['response']['venue']['rating'])\n",
        "except:\n",
        "  print(\"This venue has not been rated yet!\")"
      ],
      "execution_count": 165,
      "outputs": [
        {
          "output_type": "stream",
          "text": [
            "7.0\n"
          ],
          "name": "stdout"
        }
      ]
    },
    {
      "cell_type": "markdown",
      "metadata": {
        "id": "qrA-jkOUjugO",
        "colab_type": "text"
      },
      "source": [
        "Lets check other retaurant rating"
      ]
    },
    {
      "cell_type": "code",
      "metadata": {
        "id": "9sdt79UrjPac",
        "colab_type": "code",
        "colab": {
          "base_uri": "https://localhost:8080/",
          "height": 54
        },
        "outputId": "20648b42-f74d-4a5c-e438-4f28feb0351d"
      },
      "source": [
        "venue_id=dataframe_filtered.id[1]\n",
        "url='https://api.foursquare.com/v2/venues/{}?client_id={}&client_secret={}&v={}'.format(venue_id, CLIENT_ID, CLIENT_SECRET, VERSION)\n",
        "url"
      ],
      "execution_count": 169,
      "outputs": [
        {
          "output_type": "execute_result",
          "data": {
            "text/plain": [
              "'https://api.foursquare.com/v2/venues/4f3232e219836c91c7bfde94?client_id=AFOZEA5RMASS1VRLPCC0RXUM04BT2E4LHPFCXUJJOGLII44V&client_secret=GUQ3NRZ5AD33VBLEP31WLPHBXMMQD2D2ESSTX5CU1B5XS4RK&v=20191016'"
            ]
          },
          "metadata": {
            "tags": []
          },
          "execution_count": 169
        }
      ]
    },
    {
      "cell_type": "code",
      "metadata": {
        "id": "6VHCKI3Tj592",
        "colab_type": "code",
        "colab": {
          "base_uri": "https://localhost:8080/",
          "height": 34
        },
        "outputId": "033fe608-4474-402e-bb5f-1852b5ca89e8"
      },
      "source": [
        "result=requests.get(url).json()\n",
        "try:\n",
        "  print('Rating ',result['response']['venue']['rating'])\n",
        "except:\n",
        "  print('This venue has not been rated yet')"
      ],
      "execution_count": 172,
      "outputs": [
        {
          "output_type": "stream",
          "text": [
            "This venue has not been rated yet\n"
          ],
          "name": "stdout"
        }
      ]
    },
    {
      "cell_type": "markdown",
      "metadata": {
        "id": "i-EQxU7VmcnR",
        "colab_type": "text"
      },
      "source": [
        "**Lets check the 3rd Restaurant**"
      ]
    },
    {
      "cell_type": "code",
      "metadata": {
        "id": "ZNFeEIifl7qx",
        "colab_type": "code",
        "colab": {
          "base_uri": "https://localhost:8080/",
          "height": 54
        },
        "outputId": "285c9422-83ab-4845-c35c-aa37a4423d58"
      },
      "source": [
        "venue_id=dataframe_filtered.id[2]\n",
        "url='https://api.foursquare.com/v2/venues/{}?client_id={}&client_secret={}&v={}'.format(venue_id,CLIENT_ID,CLIENT_SECRET,VERSION)\n",
        "url"
      ],
      "execution_count": 174,
      "outputs": [
        {
          "output_type": "execute_result",
          "data": {
            "text/plain": [
              "'https://api.foursquare.com/v2/venues/3fd66200f964a520f4e41ee3?client_id=AFOZEA5RMASS1VRLPCC0RXUM04BT2E4LHPFCXUJJOGLII44V&client_secret=GUQ3NRZ5AD33VBLEP31WLPHBXMMQD2D2ESSTX5CU1B5XS4RK&v=20191016'"
            ]
          },
          "metadata": {
            "tags": []
          },
          "execution_count": 174
        }
      ]
    },
    {
      "cell_type": "code",
      "metadata": {
        "id": "MPg1EKbHmrqn",
        "colab_type": "code",
        "colab": {
          "base_uri": "https://localhost:8080/",
          "height": 34
        },
        "outputId": "776fa1f7-648c-4537-9e70-8b9d75679a1b"
      },
      "source": [
        "result=requests.get(url).json()\n",
        "try:\n",
        "  print('Rating :',result['response']['venue']['rating'])\n",
        "except:\n",
        "  print('This restaurant has not been rated yet!')"
      ],
      "execution_count": 175,
      "outputs": [
        {
          "output_type": "stream",
          "text": [
            "Rating : 7.9\n"
          ],
          "name": "stdout"
        }
      ]
    },
    {
      "cell_type": "code",
      "metadata": {
        "id": "RBDJ98N1o1KE",
        "colab_type": "code",
        "colab": {
          "base_uri": "https://localhost:8080/",
          "height": 34
        },
        "outputId": "601335ea-803c-471f-d19b-992634c7cf07"
      },
      "source": [
        "print(\"Total number of tips =\",result['response']['venue']['tips']['count'])"
      ],
      "execution_count": 178,
      "outputs": [
        {
          "output_type": "stream",
          "text": [
            "Total number of tips = 17\n"
          ],
          "name": "stdout"
        }
      ]
    },
    {
      "cell_type": "markdown",
      "metadata": {
        "id": "baViSqh5oKXO",
        "colab_type": "text"
      },
      "source": [
        "Since this restaurant has a slightly better rating, let us explore this more.."
      ]
    },
    {
      "cell_type": "code",
      "metadata": {
        "id": "mvRVF4ymoFfP",
        "colab_type": "code",
        "colab": {
          "base_uri": "https://localhost:8080/",
          "height": 54
        },
        "outputId": "9377f31b-b66c-45a5-fd2c-57bfaddfc0e2"
      },
      "source": [
        "#Get the venue's Tips\n",
        "LIMIT=15\n",
        "url='https://api.foursquare.com/v2/venues/{}/tips?client_id={}&client_secret={}&v={}&limit={}'.format(venue_id,CLIENT_ID,CLIENT_SECRET,VERSION,LIMIT)\n",
        "url"
      ],
      "execution_count": 179,
      "outputs": [
        {
          "output_type": "execute_result",
          "data": {
            "text/plain": [
              "'https://api.foursquare.com/v2/venues/3fd66200f964a520f4e41ee3/tips?client_id=AFOZEA5RMASS1VRLPCC0RXUM04BT2E4LHPFCXUJJOGLII44V&client_secret=GUQ3NRZ5AD33VBLEP31WLPHBXMMQD2D2ESSTX5CU1B5XS4RK&v=20191016&limit=15'"
            ]
          },
          "metadata": {
            "tags": []
          },
          "execution_count": 179
        }
      ]
    },
    {
      "cell_type": "code",
      "metadata": {
        "id": "oqbMzIHxpYvc",
        "colab_type": "code",
        "colab": {
          "base_uri": "https://localhost:8080/",
          "height": 377
        },
        "outputId": "4aa98e8b-37dc-4f7e-d958-7f9b1c2361c4"
      },
      "source": [
        "result=requests.get(url).json()\n",
        "result"
      ],
      "execution_count": 186,
      "outputs": [
        {
          "output_type": "execute_result",
          "data": {
            "text/plain": [
              "{'meta': {'code': 200, 'requestId': '5da89e15cc7d41002b91d6ad'},\n",
              " 'response': {'tips': {'count': 17,\n",
              "   'items': [{'agreeCount': 3,\n",
              "     'authorInteractionType': 'liked',\n",
              "     'canonicalUrl': 'https://foursquare.com/item/5ab1cb46c9a517174651d3fe',\n",
              "     'createdAt': 1521601350,\n",
              "     'disagreeCount': 0,\n",
              "     'id': '5ab1cb46c9a517174651d3fe',\n",
              "     'lang': 'en',\n",
              "     'likes': {'count': 0, 'groups': []},\n",
              "     'logView': True,\n",
              "     'text': 'A+ Italian food! Trust me on this: my mom’s side of the family is 100% Italian. I was born and bred to know good pasta when I see it, and Ecco is one of my all-time NYC favorites',\n",
              "     'todo': {'count': 0},\n",
              "     'type': 'user',\n",
              "     'user': {'firstName': 'Nick',\n",
              "      'gender': 'male',\n",
              "      'id': '484542633',\n",
              "      'lastName': 'El-Tawil',\n",
              "      'photo': {'prefix': 'https://fastly.4sqi.net/img/user/',\n",
              "       'suffix': '/484542633_mK2Yum7T_7Tn9fWpndidJsmw2Hof_6T5vJBKCHPLMK5OL-U5ZiJGj51iwBstcpDLYa3Zvhvis.jpg'}}}]}}}"
            ]
          },
          "metadata": {
            "tags": []
          },
          "execution_count": 186
        }
      ]
    },
    {
      "cell_type": "code",
      "metadata": {
        "id": "_V-WubShpgkT",
        "colab_type": "code",
        "colab": {
          "base_uri": "https://localhost:8080/",
          "height": 54
        },
        "outputId": "79847193-b20b-4f75-85bc-8d07b37b7a9a"
      },
      "source": [
        "#Get tips and list of Associated Features\n",
        "\n",
        "tips = result['response']['tips']['items']\n",
        "\n",
        "tip = result['response']['tips']['items'][0]\n",
        "tip.keys()"
      ],
      "execution_count": 187,
      "outputs": [
        {
          "output_type": "execute_result",
          "data": {
            "text/plain": [
              "dict_keys(['id', 'createdAt', 'text', 'type', 'canonicalUrl', 'lang', 'likes', 'logView', 'agreeCount', 'disagreeCount', 'todo', 'user', 'authorInteractionType'])"
            ]
          },
          "metadata": {
            "tags": []
          },
          "execution_count": 187
        }
      ]
    },
    {
      "cell_type": "markdown",
      "metadata": {
        "id": "lPMG-2YFqwza",
        "colab_type": "text"
      },
      "source": [
        "**Format Column and display all tips**"
      ]
    },
    {
      "cell_type": "code",
      "metadata": {
        "id": "I4xIvC-OqEDp",
        "colab_type": "code",
        "colab": {
          "base_uri": "https://localhost:8080/",
          "height": 131
        },
        "outputId": "882c44b9-aa59-4677-f5fa-83e0eaf8d465"
      },
      "source": [
        "#pd.set_option('display.max_colwidth', -1)\n",
        "\n",
        "tips_df =json_normalize(tips)\n",
        "\n",
        "#columns to keep\n",
        "\n",
        "filtered_columns=['text','agreeCount','disagreeCount','id','user.firstName','user.lastName','user.gender','user.id']\n",
        "tips_filtered=tips_df.loc[:, filtered_columns]\n",
        "\n",
        "#display tips\n",
        "tips_filtered"
      ],
      "execution_count": 190,
      "outputs": [
        {
          "output_type": "execute_result",
          "data": {
            "text/html": [
              "<div>\n",
              "<style scoped>\n",
              "    .dataframe tbody tr th:only-of-type {\n",
              "        vertical-align: middle;\n",
              "    }\n",
              "\n",
              "    .dataframe tbody tr th {\n",
              "        vertical-align: top;\n",
              "    }\n",
              "\n",
              "    .dataframe thead th {\n",
              "        text-align: right;\n",
              "    }\n",
              "</style>\n",
              "<table border=\"1\" class=\"dataframe\">\n",
              "  <thead>\n",
              "    <tr style=\"text-align: right;\">\n",
              "      <th></th>\n",
              "      <th>text</th>\n",
              "      <th>agreeCount</th>\n",
              "      <th>disagreeCount</th>\n",
              "      <th>id</th>\n",
              "      <th>user.firstName</th>\n",
              "      <th>user.lastName</th>\n",
              "      <th>user.gender</th>\n",
              "      <th>user.id</th>\n",
              "    </tr>\n",
              "  </thead>\n",
              "  <tbody>\n",
              "    <tr>\n",
              "      <th>0</th>\n",
              "      <td>A+ Italian food! Trust me on this: my mom’s side of the family is 100% Italian. I was born and bred to know good pasta when I see it, and Ecco is one of my all-time NYC favorites</td>\n",
              "      <td>3</td>\n",
              "      <td>0</td>\n",
              "      <td>5ab1cb46c9a517174651d3fe</td>\n",
              "      <td>Nick</td>\n",
              "      <td>El-Tawil</td>\n",
              "      <td>male</td>\n",
              "      <td>484542633</td>\n",
              "    </tr>\n",
              "  </tbody>\n",
              "</table>\n",
              "</div>"
            ],
            "text/plain": [
              "                                                                                                                                                                                 text  ...    user.id\n",
              "0  A+ Italian food! Trust me on this: my mom’s side of the family is 100% Italian. I was born and bred to know good pasta when I see it, and Ecco is one of my all-time NYC favorites  ...  484542633\n",
              "\n",
              "[1 rows x 8 columns]"
            ]
          },
          "metadata": {
            "tags": []
          },
          "execution_count": 190
        }
      ]
    },
    {
      "cell_type": "markdown",
      "metadata": {
        "id": "-DeFEuRXzxEo",
        "colab_type": "text"
      },
      "source": [
        "**Search a foursquare User**"
      ]
    },
    {
      "cell_type": "code",
      "metadata": {
        "id": "kbKGqrT9yEHk",
        "colab_type": "code",
        "colab": {
          "base_uri": "https://localhost:8080/",
          "height": 54
        },
        "outputId": "a8215eaf-78af-4bb5-aa60-5ec3260e2da9"
      },
      "source": [
        "user_id='484542633'\n",
        "\n",
        "url='https://api.foursquare.com/v2/users/{}?client_id={}&client_secret={}&v={}'.format(user_id,CLIENT_ID,CLIENT_SECRET,VERSION)\n",
        "url"
      ],
      "execution_count": 191,
      "outputs": [
        {
          "output_type": "execute_result",
          "data": {
            "text/plain": [
              "'https://api.foursquare.com/v2/users/484542633?client_id=AFOZEA5RMASS1VRLPCC0RXUM04BT2E4LHPFCXUJJOGLII44V&client_secret=GUQ3NRZ5AD33VBLEP31WLPHBXMMQD2D2ESSTX5CU1B5XS4RK&v=20191016'"
            ]
          },
          "metadata": {
            "tags": []
          },
          "execution_count": 191
        }
      ]
    },
    {
      "cell_type": "code",
      "metadata": {
        "id": "D3sKFRwv1T3D",
        "colab_type": "code",
        "colab": {
          "base_uri": "https://localhost:8080/",
          "height": 54
        },
        "outputId": "bc65826e-a3fb-49c7-808f-c56462ec7b29"
      },
      "source": [
        "results=requests.get(url).json()\n",
        "user_data=results['response']['user']\n",
        "\n",
        "user_data.keys()"
      ],
      "execution_count": 192,
      "outputs": [
        {
          "output_type": "execute_result",
          "data": {
            "text/plain": [
              "dict_keys(['id', 'firstName', 'lastName', 'gender', 'canonicalUrl', 'photo', 'friends', 'tips', 'homeCity', 'bio', 'contact', 'photos', 'type', 'mayorships', 'checkins', 'lists', 'lenses'])"
            ]
          },
          "metadata": {
            "tags": []
          },
          "execution_count": 192
        }
      ]
    },
    {
      "cell_type": "code",
      "metadata": {
        "id": "qXNwXhUu1viw",
        "colab_type": "code",
        "colab": {
          "base_uri": "https://localhost:8080/",
          "height": 68
        },
        "outputId": "12ae9a31-656f-4b0b-8bd3-59d5a2319c00"
      },
      "source": [
        "print('First Name: '+user_data['firstName'])\n",
        "print('Last Name: '+user_data['lastName'])\n",
        "print('Home City: '+user_data['homeCity'])"
      ],
      "execution_count": 193,
      "outputs": [
        {
          "output_type": "stream",
          "text": [
            "First Name: Nick\n",
            "Last Name: El-Tawil\n",
            "Home City: New York, NY\n"
          ],
          "name": "stdout"
        }
      ]
    },
    {
      "cell_type": "code",
      "metadata": {
        "id": "j-U6-0vF2C1K",
        "colab_type": "code",
        "colab": {
          "base_uri": "https://localhost:8080/",
          "height": 34
        },
        "outputId": "e3d09960-d42b-43a2-f948-90fd64727818"
      },
      "source": [
        "user_data['tips']"
      ],
      "execution_count": 194,
      "outputs": [
        {
          "output_type": "execute_result",
          "data": {
            "text/plain": [
              "{'count': 238}"
            ]
          },
          "metadata": {
            "tags": []
          },
          "execution_count": 194
        }
      ]
    },
    {
      "cell_type": "markdown",
      "metadata": {
        "id": "VdYDTHXD2JKk",
        "colab_type": "text"
      },
      "source": [
        "**Get User's Tips**"
      ]
    },
    {
      "cell_type": "code",
      "metadata": {
        "id": "TA-0le3g2GpG",
        "colab_type": "code",
        "colab": {
          "base_uri": "https://localhost:8080/",
          "height": 548
        },
        "outputId": "ff7953c3-0d36-4433-82eb-a16fa410c86b"
      },
      "source": [
        "LIMIT=15\n",
        "url='https://api.foursquare.com/v2/users/{}/tips?client_id={}&client_secret={}&v={}&limit={}'.format(user_id,CLIENT_ID,CLIENT_SECRET,VERSION,LIMIT)\n",
        "\n",
        "#send Get request and get user's request\n",
        "results=requests.get(url).json()\n",
        "tips=results['response']['tips']['items']\n",
        "\n",
        "tips_df=json_normalize(tips)\n",
        "\n",
        "#filter columns\n",
        "\n",
        "filtered_columns=['text','agreeCount','disagreeCount','id']\n",
        "tips_filtered=tips_df.loc[:, filtered_columns]\n",
        "\n",
        "#display user's tips\n",
        "tips_filtered\n"
      ],
      "execution_count": 205,
      "outputs": [
        {
          "output_type": "execute_result",
          "data": {
            "text/html": [
              "<div>\n",
              "<style scoped>\n",
              "    .dataframe tbody tr th:only-of-type {\n",
              "        vertical-align: middle;\n",
              "    }\n",
              "\n",
              "    .dataframe tbody tr th {\n",
              "        vertical-align: top;\n",
              "    }\n",
              "\n",
              "    .dataframe thead th {\n",
              "        text-align: right;\n",
              "    }\n",
              "</style>\n",
              "<table border=\"1\" class=\"dataframe\">\n",
              "  <thead>\n",
              "    <tr style=\"text-align: right;\">\n",
              "      <th></th>\n",
              "      <th>text</th>\n",
              "      <th>agreeCount</th>\n",
              "      <th>disagreeCount</th>\n",
              "      <th>id</th>\n",
              "    </tr>\n",
              "  </thead>\n",
              "  <tbody>\n",
              "    <tr>\n",
              "      <th>0</th>\n",
              "      <td>The best! I’m especially fond of the salmon burger, but I’ve had half of the menu and never been disappointed. There’s a reason this place is well known even outside of the Village!</td>\n",
              "      <td>1</td>\n",
              "      <td>0</td>\n",
              "      <td>5aec594b1f7440002c138612</td>\n",
              "    </tr>\n",
              "    <tr>\n",
              "      <th>1</th>\n",
              "      <td>I used to down a pint of chocolate like it was nothing back when I was bulking. Highly recommended!</td>\n",
              "      <td>1</td>\n",
              "      <td>0</td>\n",
              "      <td>5accc9f66fa81f196724807b</td>\n",
              "    </tr>\n",
              "    <tr>\n",
              "      <th>2</th>\n",
              "      <td>They serve coffee!!!!!!</td>\n",
              "      <td>1</td>\n",
              "      <td>0</td>\n",
              "      <td>5accc98c0313204c9d7ec157</td>\n",
              "    </tr>\n",
              "    <tr>\n",
              "      <th>3</th>\n",
              "      <td>I’m a fan. In fact, I’m such a big fan, I want Taim to hire me to be their spokesman. Kind of like the Arabic Jared Fogle - but without the kid stuff.</td>\n",
              "      <td>1</td>\n",
              "      <td>0</td>\n",
              "      <td>5accbf033abcaf09a24612a0</td>\n",
              "    </tr>\n",
              "    <tr>\n",
              "      <th>4</th>\n",
              "      <td>The linguine with clams is on point 👌</td>\n",
              "      <td>1</td>\n",
              "      <td>0</td>\n",
              "      <td>5accbe3a911fc423730f3ed3</td>\n",
              "    </tr>\n",
              "    <tr>\n",
              "      <th>5</th>\n",
              "      <td>Great for a quick, cheap lunch! Shorter lines than Chipotle too👌</td>\n",
              "      <td>1</td>\n",
              "      <td>0</td>\n",
              "      <td>5acbecb86fa81f1967e019b0</td>\n",
              "    </tr>\n",
              "    <tr>\n",
              "      <th>6</th>\n",
              "      <td>Quick, cheap lunch that tastes good! Way shorter line than Chipotle, too.</td>\n",
              "      <td>1</td>\n",
              "      <td>0</td>\n",
              "      <td>5acbec70a0215b732e264fe8</td>\n",
              "    </tr>\n",
              "    <tr>\n",
              "      <th>7</th>\n",
              "      <td>You’re not a real New Yorker until you’ve shame-ordered Insomnia Cookies for delivery at 3am</td>\n",
              "      <td>1</td>\n",
              "      <td>0</td>\n",
              "      <td>5acbbd4eb1538e45373b07f5</td>\n",
              "    </tr>\n",
              "    <tr>\n",
              "      <th>8</th>\n",
              "      <td>Good for you yet still tasty! Clean green protein is my go-to after I hit the gym 💪</td>\n",
              "      <td>2</td>\n",
              "      <td>0</td>\n",
              "      <td>5acbbcda01235808d5d6dc75</td>\n",
              "    </tr>\n",
              "    <tr>\n",
              "      <th>9</th>\n",
              "      <td>Coffee game on point</td>\n",
              "      <td>1</td>\n",
              "      <td>0</td>\n",
              "      <td>5acbbb1501235808d5d6525e</td>\n",
              "    </tr>\n",
              "    <tr>\n",
              "      <th>10</th>\n",
              "      <td>This is the dive bar to end all other dive bars. Go here if you like cheap drinks! 🥃</td>\n",
              "      <td>1</td>\n",
              "      <td>0</td>\n",
              "      <td>5ab576abea1e444f2abb051e</td>\n",
              "    </tr>\n",
              "    <tr>\n",
              "      <th>11</th>\n",
              "      <td>Burger game strong 💪</td>\n",
              "      <td>1</td>\n",
              "      <td>0</td>\n",
              "      <td>5ab575fb6bdee65f759da8c1</td>\n",
              "    </tr>\n",
              "    <tr>\n",
              "      <th>12</th>\n",
              "      <td>Great burgers &amp; fries! Also, this place is exactly what it’s like when you go to a bar in the Southwest. Source: I’m from Arizona.</td>\n",
              "      <td>2</td>\n",
              "      <td>0</td>\n",
              "      <td>5ab5575d73fe2516ad8f363b</td>\n",
              "    </tr>\n",
              "    <tr>\n",
              "      <th>13</th>\n",
              "      <td>That guy looks familiar...</td>\n",
              "      <td>1</td>\n",
              "      <td>0</td>\n",
              "      <td>5ab5299635f98312029a53b7</td>\n",
              "    </tr>\n",
              "    <tr>\n",
              "      <th>14</th>\n",
              "      <td>Açaí bowl + peanut butter + whey protein = 💪💪💪</td>\n",
              "      <td>1</td>\n",
              "      <td>0</td>\n",
              "      <td>5ab42db53c858d64af2688a4</td>\n",
              "    </tr>\n",
              "  </tbody>\n",
              "</table>\n",
              "</div>"
            ],
            "text/plain": [
              "                                                                                                                                                                                     text  ...                        id\n",
              "0   The best! I’m especially fond of the salmon burger, but I’ve had half of the menu and never been disappointed. There’s a reason this place is well known even outside of the Village!  ...  5aec594b1f7440002c138612\n",
              "1   I used to down a pint of chocolate like it was nothing back when I was bulking. Highly recommended!                                                                                    ...  5accc9f66fa81f196724807b\n",
              "2   They serve coffee!!!!!!                                                                                                                                                                ...  5accc98c0313204c9d7ec157\n",
              "3   I’m a fan. In fact, I’m such a big fan, I want Taim to hire me to be their spokesman. Kind of like the Arabic Jared Fogle - but without the kid stuff.                                 ...  5accbf033abcaf09a24612a0\n",
              "4   The linguine with clams is on point 👌                                                                                                                                                  ...  5accbe3a911fc423730f3ed3\n",
              "5   Great for a quick, cheap lunch! Shorter lines than Chipotle too👌                                                                                                                       ...  5acbecb86fa81f1967e019b0\n",
              "6   Quick, cheap lunch that tastes good! Way shorter line than Chipotle, too.                                                                                                              ...  5acbec70a0215b732e264fe8\n",
              "7   You’re not a real New Yorker until you’ve shame-ordered Insomnia Cookies for delivery at 3am                                                                                           ...  5acbbd4eb1538e45373b07f5\n",
              "8   Good for you yet still tasty! Clean green protein is my go-to after I hit the gym 💪                                                                                                    ...  5acbbcda01235808d5d6dc75\n",
              "9   Coffee game on point                                                                                                                                                                   ...  5acbbb1501235808d5d6525e\n",
              "10  This is the dive bar to end all other dive bars. Go here if you like cheap drinks! 🥃                                                                                                   ...  5ab576abea1e444f2abb051e\n",
              "11  Burger game strong 💪                                                                                                                                                                   ...  5ab575fb6bdee65f759da8c1\n",
              "12  Great burgers & fries! Also, this place is exactly what it’s like when you go to a bar in the Southwest. Source: I’m from Arizona.                                                     ...  5ab5575d73fe2516ad8f363b\n",
              "13  That guy looks familiar...                                                                                                                                                             ...  5ab5299635f98312029a53b7\n",
              "14  Açaí bowl + peanut butter + whey protein = 💪💪💪                                                                                                                                         ...  5ab42db53c858d64af2688a4\n",
              "\n",
              "[15 rows x 4 columns]"
            ]
          },
          "metadata": {
            "tags": []
          },
          "execution_count": 205
        }
      ]
    },
    {
      "cell_type": "markdown",
      "metadata": {
        "id": "1w5vdWqw4rEq",
        "colab_type": "text"
      },
      "source": [
        "**Let's get the venue for the tip with the greatest number of agree counts**"
      ]
    },
    {
      "cell_type": "code",
      "metadata": {
        "id": "tkvNHRWF3BgT",
        "colab_type": "code",
        "colab": {
          "base_uri": "https://localhost:8080/",
          "height": 71
        },
        "outputId": "3e34565d-b52b-44c1-9892-0f69f1aae321"
      },
      "source": [
        "tip_id = '5ab5575d73fe2516ad8f363b'\n",
        "\n",
        "url=\"https://api.foursquare.com/v2/tips/{}?client_id={}&client_secret={}&v={}\".format(tip_id,CLIENT_ID,CLIENT_SECRET,VERSION)\n",
        "url\n",
        "\n",
        "#send GET Request and examine results\n",
        "result=requests.get(url).json()\n",
        "print(result['response']['tip']['venue']['name'])\n",
        "print(result['response']['tip']['venue']['location'])"
      ],
      "execution_count": 206,
      "outputs": [
        {
          "output_type": "stream",
          "text": [
            "Cowgirl\n",
            "{'address': '519 Hudson St', 'crossStreet': 'at W 10th St', 'lat': 40.73373338282062, 'lng': -74.0062998849649, 'labeledLatLngs': [{'label': 'display', 'lat': 40.73373338282062, 'lng': -74.0062998849649}], 'postalCode': '10014', 'cc': 'US', 'city': 'New York', 'state': 'NY', 'country': 'United States', 'formattedAddress': ['519 Hudson St (at W 10th St)', 'New York, NY 10014', 'United States']}\n"
          ],
          "name": "stdout"
        }
      ]
    },
    {
      "cell_type": "code",
      "metadata": {
        "id": "VGYSc7Ek5S8r",
        "colab_type": "code",
        "colab": {
          "base_uri": "https://localhost:8080/",
          "height": 32
        },
        "outputId": "5d94eaa5-cfa0-484f-f679-9c507decac7c"
      },
      "source": [
        "#Get User's friends\n",
        "user_friends = json_normalize(user_data['friends']['groups'][0]['items'])\n",
        "user_friends"
      ],
      "execution_count": 207,
      "outputs": [
        {
          "output_type": "execute_result",
          "data": {
            "text/html": [
              "<div>\n",
              "<style scoped>\n",
              "    .dataframe tbody tr th:only-of-type {\n",
              "        vertical-align: middle;\n",
              "    }\n",
              "\n",
              "    .dataframe tbody tr th {\n",
              "        vertical-align: top;\n",
              "    }\n",
              "\n",
              "    .dataframe thead th {\n",
              "        text-align: right;\n",
              "    }\n",
              "</style>\n",
              "<table border=\"1\" class=\"dataframe\">\n",
              "  <thead>\n",
              "    <tr style=\"text-align: right;\">\n",
              "      <th></th>\n",
              "    </tr>\n",
              "  </thead>\n",
              "  <tbody>\n",
              "  </tbody>\n",
              "</table>\n",
              "</div>"
            ],
            "text/plain": [
              "Empty DataFrame\n",
              "Columns: []\n",
              "Index: []"
            ]
          },
          "metadata": {
            "tags": []
          },
          "execution_count": 207
        }
      ]
    },
    {
      "cell_type": "code",
      "metadata": {
        "id": "kp00r_Mz6KU-",
        "colab_type": "code",
        "colab": {
          "base_uri": "https://localhost:8080/",
          "height": 799
        },
        "outputId": "6266be90-5c33-468b-f33b-5f5eb7a31963"
      },
      "source": [
        "user_data"
      ],
      "execution_count": 208,
      "outputs": [
        {
          "output_type": "execute_result",
          "data": {
            "text/plain": [
              "{'bio': 'https://www.tawil.team/nick-el-tawil/',\n",
              " 'canonicalUrl': 'https://foursquare.com/nickeltawil',\n",
              " 'checkins': {'count': 1, 'items': []},\n",
              " 'contact': {},\n",
              " 'firstName': 'Nick',\n",
              " 'friends': {'count': 0,\n",
              "  'groups': [{'count': 0,\n",
              "    'items': [],\n",
              "    'name': 'Other friends',\n",
              "    'type': 'others'}]},\n",
              " 'gender': 'male',\n",
              " 'homeCity': 'New York, NY',\n",
              " 'id': '484542633',\n",
              " 'lastName': 'El-Tawil',\n",
              " 'lenses': [],\n",
              " 'lists': {'count': 2,\n",
              "  'groups': [{'count': 0, 'items': [], 'type': 'created'},\n",
              "   {'count': 0, 'items': [], 'type': 'followed'},\n",
              "   {'count': 2,\n",
              "    'items': [{'canonicalUrl': 'https://foursquare.com/nickeltawil/list/todos',\n",
              "      'collaborative': False,\n",
              "      'description': '',\n",
              "      'editable': False,\n",
              "      'id': '484542633/todos',\n",
              "      'listItems': {'count': 0},\n",
              "      'name': \"Nick's Saved Places\",\n",
              "      'public': True,\n",
              "      'type': 'todos',\n",
              "      'url': '/nickeltawil/list/todos'},\n",
              "     {'canonicalUrl': 'https://foursquare.com/nickeltawil/list/venuelikes',\n",
              "      'collaborative': False,\n",
              "      'description': '',\n",
              "      'editable': False,\n",
              "      'id': '484542633/venuelikes',\n",
              "      'listItems': {'count': 0},\n",
              "      'name': 'Nick’s Liked Places',\n",
              "      'public': True,\n",
              "      'type': 'likes',\n",
              "      'url': '/nickeltawil/list/venuelikes'}],\n",
              "    'type': 'yours'}]},\n",
              " 'mayorships': {'count': 0, 'items': []},\n",
              " 'photo': {'prefix': 'https://fastly.4sqi.net/img/user/',\n",
              "  'suffix': '/484542633_mK2Yum7T_7Tn9fWpndidJsmw2Hof_6T5vJBKCHPLMK5OL-U5ZiJGj51iwBstcpDLYa3Zvhvis.jpg'},\n",
              " 'photos': {'count': 0, 'items': []},\n",
              " 'tips': {'count': 238},\n",
              " 'type': 'user'}"
            ]
          },
          "metadata": {
            "tags": []
          },
          "execution_count": 208
        }
      ]
    },
    {
      "cell_type": "code",
      "metadata": {
        "id": "WHwhZTxO6YSU",
        "colab_type": "code",
        "colab": {
          "base_uri": "https://localhost:8080/",
          "height": 321
        },
        "outputId": "10b2a652-b173-40d5-f593-7dea7c919ca0"
      },
      "source": [
        "Image(url='https://igx.4sqi.net/img/user/300x300/484542633_mK2Yum7T_7Tn9fWpndidJsmw2Hof_6T5vJBKCHPLMK5OL-U5ZiJGj51iwBstcpDLYa3Zvhvis.jpg')"
      ],
      "execution_count": 209,
      "outputs": [
        {
          "output_type": "execute_result",
          "data": {
            "text/html": [
              "<img src=\"https://igx.4sqi.net/img/user/300x300/484542633_mK2Yum7T_7Tn9fWpndidJsmw2Hof_6T5vJBKCHPLMK5OL-U5ZiJGj51iwBstcpDLYa3Zvhvis.jpg\"/>"
            ],
            "text/plain": [
              "<IPython.core.display.Image object>"
            ]
          },
          "metadata": {
            "tags": []
          },
          "execution_count": 209
        }
      ]
    },
    {
      "cell_type": "code",
      "metadata": {
        "id": "GaX3Xx6_6gWT",
        "colab_type": "code",
        "colab": {}
      },
      "source": [
        ""
      ],
      "execution_count": 0,
      "outputs": []
    },
    {
      "cell_type": "markdown",
      "metadata": {
        "id": "aheu46Mc6lNw",
        "colab_type": "text"
      },
      "source": [
        "**Explore the location**"
      ]
    },
    {
      "cell_type": "code",
      "metadata": {
        "id": "Ku4jIZzX6oAh",
        "colab_type": "code",
        "colab": {}
      },
      "source": [
        "latitude = 40.715337\n",
        "longitude = -74.008848"
      ],
      "execution_count": 0,
      "outputs": []
    },
    {
      "cell_type": "code",
      "metadata": {
        "id": "9lYiWCeo6txh",
        "colab_type": "code",
        "colab": {
          "base_uri": "https://localhost:8080/",
          "height": 54
        },
        "outputId": "ab03ec6a-8e04-4006-905f-aa8b85f80484"
      },
      "source": [
        "url=\"https://api.foursquare.com/v2/venues/explore?client_id={}&client_secret={}&ll={},{}&v={}&radius={}&limit={}\".format(CLIENT_ID,CLIENT_SECRET,latitude,longitude,VERSION,radius,LIMIT)\n",
        "url"
      ],
      "execution_count": 211,
      "outputs": [
        {
          "output_type": "execute_result",
          "data": {
            "text/plain": [
              "'https://api.foursquare.com/v2/venues/explore?client_id=AFOZEA5RMASS1VRLPCC0RXUM04BT2E4LHPFCXUJJOGLII44V&client_secret=GUQ3NRZ5AD33VBLEP31WLPHBXMMQD2D2ESSTX5CU1B5XS4RK&ll=40.715337,-74.008848&v=20191016&radius=500&limit=15'"
            ]
          },
          "metadata": {
            "tags": []
          },
          "execution_count": 211
        }
      ]
    },
    {
      "cell_type": "code",
      "metadata": {
        "id": "HOwn6OG87UCy",
        "colab_type": "code",
        "colab": {}
      },
      "source": [
        "import requests"
      ],
      "execution_count": 0,
      "outputs": []
    },
    {
      "cell_type": "code",
      "metadata": {
        "id": "gwgNuz317ZJF",
        "colab_type": "code",
        "colab": {
          "base_uri": "https://localhost:8080/",
          "height": 34
        },
        "outputId": "bb04bf02-0626-4ea6-c66d-012c4f5ad589"
      },
      "source": [
        "results=requests.get(url).json()\n",
        "'There are {} around Ecco restaurant.'.format(len(results['response']['groups'][0]['items']))\n"
      ],
      "execution_count": 214,
      "outputs": [
        {
          "output_type": "execute_result",
          "data": {
            "text/plain": [
              "'There are 15 around Ecco restaurant.'"
            ]
          },
          "metadata": {
            "tags": []
          },
          "execution_count": 214
        }
      ]
    },
    {
      "cell_type": "code",
      "metadata": {
        "id": "8mG1dNtE7y8A",
        "colab_type": "code",
        "colab": {
          "base_uri": "https://localhost:8080/",
          "height": 578
        },
        "outputId": "596c05c5-5069-469a-8fb1-e7e71ba425fa"
      },
      "source": [
        "items = results['response']['groups'][0]['items']\n",
        "items[0]"
      ],
      "execution_count": 215,
      "outputs": [
        {
          "output_type": "execute_result",
          "data": {
            "text/plain": [
              "{'reasons': {'count': 0,\n",
              "  'items': [{'reasonName': 'globalInteractionReason',\n",
              "    'summary': 'This spot is popular',\n",
              "    'type': 'general'}]},\n",
              " 'referralId': 'e-0-4af5d65ff964a52091fd21e3-0',\n",
              " 'venue': {'categories': [{'icon': {'prefix': 'https://ss3.4sqi.net/img/categories_v2/shops/furniture_',\n",
              "     'suffix': '.png'},\n",
              "    'id': '4bf58dd8d48988d1f8941735',\n",
              "    'name': 'Furniture / Home Store',\n",
              "    'pluralName': 'Furniture / Home Stores',\n",
              "    'primary': True,\n",
              "    'shortName': 'Furniture / Home'}],\n",
              "  'id': '4af5d65ff964a52091fd21e3',\n",
              "  'location': {'address': '57 Warren St',\n",
              "   'cc': 'US',\n",
              "   'city': 'New York',\n",
              "   'country': 'United States',\n",
              "   'crossStreet': 'Church St',\n",
              "   'distance': 73,\n",
              "   'formattedAddress': ['57 Warren St (Church St)',\n",
              "    'New York, NY 10007',\n",
              "    'United States'],\n",
              "   'labeledLatLngs': [{'label': 'display',\n",
              "     'lat': 40.71482437714839,\n",
              "     'lng': -74.00940425461492}],\n",
              "   'lat': 40.71482437714839,\n",
              "   'lng': -74.00940425461492,\n",
              "   'neighborhood': 'Tribeca',\n",
              "   'postalCode': '10007',\n",
              "   'state': 'NY'},\n",
              "  'name': 'Korin',\n",
              "  'photos': {'count': 0, 'groups': []},\n",
              "  'venuePage': {'id': '33104775'}}}"
            ]
          },
          "metadata": {
            "tags": []
          },
          "execution_count": 215
        }
      ]
    },
    {
      "cell_type": "code",
      "metadata": {
        "id": "e6qMk6Cw8zet",
        "colab_type": "code",
        "colab": {
          "base_uri": "https://localhost:8080/",
          "height": 1000
        },
        "outputId": "dc1ddef0-fc78-40a4-b696-5cb4e4e117b2"
      },
      "source": [
        "dataframe=json_normalize(items)\n",
        "\n",
        "#filter columns\n",
        "filtered_columns=['venue.name','venue.categories']+[col for col in dataframe.columns if col.startswith('venue.location.')] + ['venue.id']\n",
        "dataframe_filtered=dataframe.loc[:, filtered_columns]\n",
        "dataframe_filtered['venue.categories'] = dataframe_filtered.apply(get_category_type, axis=1)\n",
        "\n",
        "# clean columns\n",
        "dataframe_filtered.columns = [col.split('.')[-1] for col in dataframe_filtered.columns]\n",
        "\n",
        "dataframe_filtered.head(10)"
      ],
      "execution_count": 216,
      "outputs": [
        {
          "output_type": "execute_result",
          "data": {
            "text/html": [
              "<div>\n",
              "<style scoped>\n",
              "    .dataframe tbody tr th:only-of-type {\n",
              "        vertical-align: middle;\n",
              "    }\n",
              "\n",
              "    .dataframe tbody tr th {\n",
              "        vertical-align: top;\n",
              "    }\n",
              "\n",
              "    .dataframe thead th {\n",
              "        text-align: right;\n",
              "    }\n",
              "</style>\n",
              "<table border=\"1\" class=\"dataframe\">\n",
              "  <thead>\n",
              "    <tr style=\"text-align: right;\">\n",
              "      <th></th>\n",
              "      <th>name</th>\n",
              "      <th>categories</th>\n",
              "      <th>address</th>\n",
              "      <th>cc</th>\n",
              "      <th>city</th>\n",
              "      <th>country</th>\n",
              "      <th>crossStreet</th>\n",
              "      <th>distance</th>\n",
              "      <th>formattedAddress</th>\n",
              "      <th>labeledLatLngs</th>\n",
              "      <th>lat</th>\n",
              "      <th>lng</th>\n",
              "      <th>neighborhood</th>\n",
              "      <th>postalCode</th>\n",
              "      <th>state</th>\n",
              "      <th>id</th>\n",
              "    </tr>\n",
              "  </thead>\n",
              "  <tbody>\n",
              "    <tr>\n",
              "      <th>0</th>\n",
              "      <td>Korin</td>\n",
              "      <td>Furniture / Home Store</td>\n",
              "      <td>57 Warren St</td>\n",
              "      <td>US</td>\n",
              "      <td>New York</td>\n",
              "      <td>United States</td>\n",
              "      <td>Church St</td>\n",
              "      <td>73</td>\n",
              "      <td>[57 Warren St (Church St), New York, NY 10007, United States]</td>\n",
              "      <td>[{'label': 'display', 'lat': 40.71482437714839, 'lng': -74.00940425461492}]</td>\n",
              "      <td>40.714824</td>\n",
              "      <td>-74.009404</td>\n",
              "      <td>Tribeca</td>\n",
              "      <td>10007</td>\n",
              "      <td>NY</td>\n",
              "      <td>4af5d65ff964a52091fd21e3</td>\n",
              "    </tr>\n",
              "    <tr>\n",
              "      <th>1</th>\n",
              "      <td>Juice Press</td>\n",
              "      <td>Vegetarian / Vegan Restaurant</td>\n",
              "      <td>83 Murray St</td>\n",
              "      <td>US</td>\n",
              "      <td>New York</td>\n",
              "      <td>United States</td>\n",
              "      <td>btwn Greenwich St &amp; W Broadway</td>\n",
              "      <td>202</td>\n",
              "      <td>[83 Murray St (btwn Greenwich St &amp; W Broadway), New York, NY 10007, United States]</td>\n",
              "      <td>[{'label': 'display', 'lat': 40.71478769908051, 'lng': -74.0111317502157}]</td>\n",
              "      <td>40.714788</td>\n",
              "      <td>-74.011132</td>\n",
              "      <td>NaN</td>\n",
              "      <td>10007</td>\n",
              "      <td>NY</td>\n",
              "      <td>54148bc6498ea7bb8c05b70a</td>\n",
              "    </tr>\n",
              "    <tr>\n",
              "      <th>2</th>\n",
              "      <td>Takahachi Bakery</td>\n",
              "      <td>Bakery</td>\n",
              "      <td>25 Murray St</td>\n",
              "      <td>US</td>\n",
              "      <td>New York</td>\n",
              "      <td>United States</td>\n",
              "      <td>at Church St</td>\n",
              "      <td>187</td>\n",
              "      <td>[25 Murray St (at Church St), New York, NY 10007, United States]</td>\n",
              "      <td>[{'label': 'display', 'lat': 40.713652845301894, 'lng': -74.0088038953017}]</td>\n",
              "      <td>40.713653</td>\n",
              "      <td>-74.008804</td>\n",
              "      <td>NaN</td>\n",
              "      <td>10007</td>\n",
              "      <td>NY</td>\n",
              "      <td>4c154c9a77cea593c401d260</td>\n",
              "    </tr>\n",
              "    <tr>\n",
              "      <th>3</th>\n",
              "      <td>Chambers Street Wines</td>\n",
              "      <td>Wine Shop</td>\n",
              "      <td>148 Chambers St</td>\n",
              "      <td>US</td>\n",
              "      <td>New York</td>\n",
              "      <td>United States</td>\n",
              "      <td>btwn West Broadway &amp; Hudson St</td>\n",
              "      <td>88</td>\n",
              "      <td>[148 Chambers St (btwn West Broadway &amp; Hudson St), New York, NY 10007, United States]</td>\n",
              "      <td>[{'label': 'display', 'lat': 40.715773063928374, 'lng': -74.00971823312332}]</td>\n",
              "      <td>40.715773</td>\n",
              "      <td>-74.009718</td>\n",
              "      <td>NaN</td>\n",
              "      <td>10007</td>\n",
              "      <td>NY</td>\n",
              "      <td>4adcf23cf964a520cc6221e3</td>\n",
              "    </tr>\n",
              "    <tr>\n",
              "      <th>4</th>\n",
              "      <td>Takahachi</td>\n",
              "      <td>Sushi Restaurant</td>\n",
              "      <td>145 Duane St</td>\n",
              "      <td>US</td>\n",
              "      <td>New York</td>\n",
              "      <td>United States</td>\n",
              "      <td>btwn W Broadway &amp; Church St</td>\n",
              "      <td>146</td>\n",
              "      <td>[145 Duane St (btwn W Broadway &amp; Church St), New York, NY 10013, United States]</td>\n",
              "      <td>[{'label': 'display', 'lat': 40.71652647412374, 'lng': -74.00810108466207}]</td>\n",
              "      <td>40.716526</td>\n",
              "      <td>-74.008101</td>\n",
              "      <td>NaN</td>\n",
              "      <td>10013</td>\n",
              "      <td>NY</td>\n",
              "      <td>4a8f2f39f964a520471420e3</td>\n",
              "    </tr>\n",
              "    <tr>\n",
              "      <th>5</th>\n",
              "      <td>Philip Williams Posters</td>\n",
              "      <td>Antique Shop</td>\n",
              "      <td>122 Chambers St</td>\n",
              "      <td>US</td>\n",
              "      <td>New York</td>\n",
              "      <td>United States</td>\n",
              "      <td>NaN</td>\n",
              "      <td>8</td>\n",
              "      <td>[122 Chambers St, New York, NY 10007, United States]</td>\n",
              "      <td>[{'label': 'display', 'lat': 40.71528423132827, 'lng': -74.00878093952018}]</td>\n",
              "      <td>40.715284</td>\n",
              "      <td>-74.008781</td>\n",
              "      <td>NaN</td>\n",
              "      <td>10007</td>\n",
              "      <td>NY</td>\n",
              "      <td>4b747291f964a52042dd2de3</td>\n",
              "    </tr>\n",
              "    <tr>\n",
              "      <th>6</th>\n",
              "      <td>Heyday</td>\n",
              "      <td>Spa</td>\n",
              "      <td>92 Reade St</td>\n",
              "      <td>US</td>\n",
              "      <td>New York</td>\n",
              "      <td>United States</td>\n",
              "      <td>NaN</td>\n",
              "      <td>86</td>\n",
              "      <td>[92 Reade St, New York, NY 10013, United States]</td>\n",
              "      <td>[{'label': 'display', 'lat': 40.715598486687675, 'lng': -74.00788227511288}]</td>\n",
              "      <td>40.715598</td>\n",
              "      <td>-74.007882</td>\n",
              "      <td>NaN</td>\n",
              "      <td>10013</td>\n",
              "      <td>NY</td>\n",
              "      <td>57ad129c498e05b086594d72</td>\n",
              "    </tr>\n",
              "    <tr>\n",
              "      <th>7</th>\n",
              "      <td>Equinox Tribeca</td>\n",
              "      <td>Gym</td>\n",
              "      <td>54 Murray Street</td>\n",
              "      <td>US</td>\n",
              "      <td>New York</td>\n",
              "      <td>United States</td>\n",
              "      <td>at W Broadway</td>\n",
              "      <td>154</td>\n",
              "      <td>[54 Murray Street (at W Broadway), New York, NY 10007, United States]</td>\n",
              "      <td>[{'label': 'display', 'lat': 40.71409860726041, 'lng': -74.0096857179283}]</td>\n",
              "      <td>40.714099</td>\n",
              "      <td>-74.009686</td>\n",
              "      <td>NaN</td>\n",
              "      <td>10007</td>\n",
              "      <td>NY</td>\n",
              "      <td>4a6e331af964a52031d41fe3</td>\n",
              "    </tr>\n",
              "    <tr>\n",
              "      <th>8</th>\n",
              "      <td>Mulberry &amp; Vine</td>\n",
              "      <td>Café</td>\n",
              "      <td>73 Warren St</td>\n",
              "      <td>US</td>\n",
              "      <td>New York</td>\n",
              "      <td>United States</td>\n",
              "      <td>btwn W Broadway &amp; Greenwich St</td>\n",
              "      <td>117</td>\n",
              "      <td>[73 Warren St (btwn W Broadway &amp; Greenwich St), New York, NY 10007, United States]</td>\n",
              "      <td>[{'label': 'display', 'lat': 40.71517693966315, 'lng': -74.01022747778285}]</td>\n",
              "      <td>40.715177</td>\n",
              "      <td>-74.010227</td>\n",
              "      <td>NaN</td>\n",
              "      <td>10007</td>\n",
              "      <td>NY</td>\n",
              "      <td>5171b5cc011cef9833bbb787</td>\n",
              "    </tr>\n",
              "    <tr>\n",
              "      <th>9</th>\n",
              "      <td>Nish Nūsh</td>\n",
              "      <td>Falafel Restaurant</td>\n",
              "      <td>88 Reade St</td>\n",
              "      <td>US</td>\n",
              "      <td>New York</td>\n",
              "      <td>United States</td>\n",
              "      <td>at Church St</td>\n",
              "      <td>97</td>\n",
              "      <td>[88 Reade St (at Church St), New York, NY 10013, United States]</td>\n",
              "      <td>[{'label': 'display', 'lat': 40.71553710116416, 'lng': -74.00772452925565}]</td>\n",
              "      <td>40.715537</td>\n",
              "      <td>-74.007725</td>\n",
              "      <td>NaN</td>\n",
              "      <td>10013</td>\n",
              "      <td>NY</td>\n",
              "      <td>50ba9119e4b071a4bae6dc10</td>\n",
              "    </tr>\n",
              "  </tbody>\n",
              "</table>\n",
              "</div>"
            ],
            "text/plain": [
              "                      name  ...                        id\n",
              "0  Korin                    ...  4af5d65ff964a52091fd21e3\n",
              "1  Juice Press              ...  54148bc6498ea7bb8c05b70a\n",
              "2  Takahachi Bakery         ...  4c154c9a77cea593c401d260\n",
              "3  Chambers Street Wines    ...  4adcf23cf964a520cc6221e3\n",
              "4  Takahachi                ...  4a8f2f39f964a520471420e3\n",
              "5  Philip Williams Posters  ...  4b747291f964a52042dd2de3\n",
              "6  Heyday                   ...  57ad129c498e05b086594d72\n",
              "7  Equinox Tribeca          ...  4a6e331af964a52031d41fe3\n",
              "8  Mulberry & Vine          ...  5171b5cc011cef9833bbb787\n",
              "9  Nish Nūsh                ...  50ba9119e4b071a4bae6dc10\n",
              "\n",
              "[10 rows x 16 columns]"
            ]
          },
          "metadata": {
            "tags": []
          },
          "execution_count": 216
        }
      ]
    },
    {
      "cell_type": "code",
      "metadata": {
        "id": "OTUczjV__NsN",
        "colab_type": "code",
        "colab": {
          "base_uri": "https://localhost:8080/",
          "height": 755
        },
        "outputId": "065520f5-b545-4adb-88ad-052780e6fe40"
      },
      "source": [
        "venues_map = folium.Map(location=[latitude, longitude], zoom_start=15) # generate map centred around Ecco\n",
        "\n",
        "\n",
        "# add Ecco as a red circle mark\n",
        "folium.CircleMarker(\n",
        "    [latitude, longitude],\n",
        "    radius=10,\n",
        "    popup='Ecco',\n",
        "    fill=True,\n",
        "    color='red',\n",
        "    fill_color='red',\n",
        "    fill_opacity=0.6\n",
        "    ).add_to(venues_map)\n",
        "\n",
        "\n",
        "# add popular spots to the map as blue circle markers\n",
        "for lat, lng, label in zip(dataframe_filtered.lat, dataframe_filtered.lng, dataframe_filtered.categories):\n",
        "    folium.CircleMarker(\n",
        "        [lat, lng],\n",
        "        radius=5,\n",
        "        popup=label,\n",
        "        fill=True,\n",
        "        color='blue',\n",
        "        fill_color='blue',\n",
        "        fill_opacity=0.6\n",
        "        ).add_to(venues_map)\n",
        "\n",
        "# display map\n",
        "venues_map"
      ],
      "execution_count": 218,
      "outputs": [
        {
          "output_type": "execute_result",
          "data": {
            "text/html": [
              "<div style=\"width:100%;\"><div style=\"position:relative;width:100%;height:0;padding-bottom:60%;\"><iframe src=\"data:text/html;charset=utf-8;base64,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\" style=\"position:absolute;width:100%;height:100%;left:0;top:0;border:none !important;\" allowfullscreen webkitallowfullscreen mozallowfullscreen></iframe></div></div>"
            ],
            "text/plain": [
              "<folium.folium.Map at 0x7fd3b5f2e400>"
            ]
          },
          "metadata": {
            "tags": []
          },
          "execution_count": 218
        }
      ]
    },
    {
      "cell_type": "code",
      "metadata": {
        "id": "ZPZ7vmtTAYs8",
        "colab_type": "code",
        "colab": {
          "base_uri": "https://localhost:8080/",
          "height": 51
        },
        "outputId": "dfca78aa-aef0-4b43-88f5-766d97b137fd"
      },
      "source": [
        "# define URL\n",
        "url = 'https://api.foursquare.com/v2/venues/trending?client_id={}&client_secret={}&ll={},{}&v={}'.format(CLIENT_ID, CLIENT_SECRET, latitude, longitude, VERSION)\n",
        "\n",
        "# send GET request and get trending venues\n",
        "results = requests.get(url).json()\n",
        "results"
      ],
      "execution_count": 219,
      "outputs": [
        {
          "output_type": "execute_result",
          "data": {
            "text/plain": [
              "{'meta': {'code': 200, 'requestId': '5da8b551cad1b6002c425289'},\n",
              " 'response': {'venues': []}}"
            ]
          },
          "metadata": {
            "tags": []
          },
          "execution_count": 219
        }
      ]
    },
    {
      "cell_type": "code",
      "metadata": {
        "id": "O-Z-VnX-BEAU",
        "colab_type": "code",
        "colab": {}
      },
      "source": [
        "if len(results['response']['venues']) == 0:\n",
        "    trending_venues_df = 'No trending venues are available at the moment!'\n",
        "    \n",
        "else:\n",
        "    trending_venues = results['response']['venues']\n",
        "    trending_venues_df = json_normalize(trending_venues)\n",
        "\n",
        "    # filter columns\n",
        "    columns_filtered = ['name', 'categories'] + ['location.distance', 'location.city', 'location.postalCode', 'location.state', 'location.country', 'location.lat', 'location.lng']\n",
        "    trending_venues_df = trending_venues_df.loc[:, columns_filtered]\n",
        "\n",
        "    # filter the category for each row\n",
        "    trending_venues_df['categories'] = trending_venues_df.apply(get_category_type, axis=1)"
      ],
      "execution_count": 0,
      "outputs": []
    },
    {
      "cell_type": "code",
      "metadata": {
        "id": "H8SX2Y3TBKMa",
        "colab_type": "code",
        "colab": {
          "base_uri": "https://localhost:8080/",
          "height": 34
        },
        "outputId": "68c9b290-8ae5-4615-99b6-e6bc436fe400"
      },
      "source": [
        "# display trending venues\n",
        "trending_venues_df"
      ],
      "execution_count": 221,
      "outputs": [
        {
          "output_type": "execute_result",
          "data": {
            "text/plain": [
              "'No trending venues are available at the moment!'"
            ]
          },
          "metadata": {
            "tags": []
          },
          "execution_count": 221
        }
      ]
    },
    {
      "cell_type": "code",
      "metadata": {
        "id": "U8W3ZDhtBO0h",
        "colab_type": "code",
        "colab": {}
      },
      "source": [
        "if len(results['response']['venues']) == 0:\n",
        "    venues_map = 'Cannot generate visual as no trending venues are available at the moment!'\n",
        "\n",
        "else:\n",
        "    venues_map = folium.Map(location=[latitude, longitude], zoom_start=15) # generate map centred around Ecco\n",
        "\n",
        "\n",
        "    # add Ecco as a red circle mark\n",
        "    folium.features.CircleMarker(\n",
        "        [latitude, longitude],\n",
        "        radius=10,\n",
        "        popup='Ecco',\n",
        "        fill=True,\n",
        "        color='red',\n",
        "        fill_color='red',\n",
        "        fill_opacity=0.6\n",
        "    ).add_to(venues_map)\n",
        "\n",
        "\n",
        "    # add the trending venues as blue circle markers\n",
        "    for lat, lng, label in zip(trending_venues_df['location.lat'], trending_venues_df['location.lng'], trending_venues_df['name']):\n",
        "        folium.features.CircleMarker(\n",
        "            [lat, lng],\n",
        "            radius=5,\n",
        "            poup=label,\n",
        "            fill=True,\n",
        "            color='blue',\n",
        "            fill_color='blue',\n",
        "            fill_opacity=0.6\n",
        "        ).add_to(venues_map)"
      ],
      "execution_count": 0,
      "outputs": []
    },
    {
      "cell_type": "code",
      "metadata": {
        "id": "rg8YskQBBUeK",
        "colab_type": "code",
        "colab": {
          "base_uri": "https://localhost:8080/",
          "height": 34
        },
        "outputId": "43537d5c-0765-4591-b4b2-b9ef3b394f53"
      },
      "source": [
        "venues_map"
      ],
      "execution_count": 223,
      "outputs": [
        {
          "output_type": "execute_result",
          "data": {
            "text/plain": [
              "'Cannot generate visual as no trending venues are available at the moment!'"
            ]
          },
          "metadata": {
            "tags": []
          },
          "execution_count": 223
        }
      ]
    },
    {
      "cell_type": "code",
      "metadata": {
        "id": "-g99zSKSBXiZ",
        "colab_type": "code",
        "colab": {}
      },
      "source": [
        ""
      ],
      "execution_count": 0,
      "outputs": []
    }
  ]
}