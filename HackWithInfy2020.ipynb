{
  "nbformat": 4,
  "nbformat_minor": 0,
  "metadata": {
    "colab": {
      "name": "HackWithInfy2020.ipynb",
      "provenance": [],
      "collapsed_sections": [],
      "authorship_tag": "ABX9TyN5oag1LiM3feXDuP8qZSW+",
      "include_colab_link": true
    },
    "kernelspec": {
      "name": "python3",
      "display_name": "Python 3"
    }
  },
  "cells": [
    {
      "cell_type": "markdown",
      "metadata": {
        "id": "view-in-github",
        "colab_type": "text"
      },
      "source": [
        "<a href=\"https://colab.research.google.com/github/amitthakur2013/Coursera_Capstone/blob/master/HackWithInfy2020.ipynb\" target=\"_parent\"><img src=\"https://colab.research.google.com/assets/colab-badge.svg\" alt=\"Open In Colab\"/></a>"
      ]
    },
    {
      "cell_type": "code",
      "metadata": {
        "id": "FAMc-OlMCCyw",
        "colab_type": "code",
        "colab": {
          "base_uri": "https://localhost:8080/",
          "height": 51
        },
        "outputId": "d56343e3-c4c1-41fb-834f-28c3453e3c25"
      },
      "source": [
        "# Division using binary search Time Complexity 10^18\n",
        "a,b,c=map(int,input().split())\n",
        "low=0\n",
        "high=c\n",
        "flag=0\n",
        "while(low<=high):\n",
        "  mid=(low+high)//2\n",
        "  if mid%a==b:\n",
        "    if c%a!=0:\n",
        "      mid=(c-(c%a)+mid)\n",
        "    else:\n",
        "      mid=c-(c-mid)%a\n",
        "    print(mid)\n",
        "    flag=1\n",
        "    break \n",
        "  elif b<mid:\n",
        "    high=mid-1\n",
        "  else:\n",
        "    low=mid+1\n",
        "if flag==0:\n",
        "  print(-1)"
      ],
      "execution_count": 24,
      "outputs": [
        {
          "output_type": "stream",
          "text": [
            "8 7 56\n",
            "55\n"
          ],
          "name": "stdout"
        }
      ]
    },
    {
      "cell_type": "code",
      "metadata": {
        "id": "1tpMIQk7CH5G",
        "colab_type": "code",
        "colab": {}
      },
      "source": [
        ""
      ],
      "execution_count": 0,
      "outputs": []
    }
  ]
}