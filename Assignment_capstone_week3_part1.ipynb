{
  "nbformat": 4,
  "nbformat_minor": 0,
  "metadata": {
    "colab": {
      "name": "Assignment_capstone_week3_part1.ipynb",
      "provenance": [],
      "collapsed_sections": [],
      "include_colab_link": true
    },
    "kernelspec": {
      "name": "python3",
      "display_name": "Python 3"
    }
  },
  "cells": [
    {
      "cell_type": "markdown",
      "metadata": {
        "id": "view-in-github",
        "colab_type": "text"
      },
      "source": [
        "<a href=\"https://colab.research.google.com/github/amitthakur2013/Coursera_Capstone/blob/master/Assignment_capstone_week3_part1.ipynb\" target=\"_parent\"><img src=\"https://colab.research.google.com/assets/colab-badge.svg\" alt=\"Open In Colab\"/></a>"
      ]
    },
    {
      "cell_type": "markdown",
      "metadata": {
        "id": "F6593tQfiA02",
        "colab_type": "text"
      },
      "source": [
        "**Import all necessary libraries**"
      ]
    },
    {
      "cell_type": "code",
      "metadata": {
        "id": "5o-n999eh46v",
        "colab_type": "code",
        "outputId": "29767701-d5e8-49ab-874d-495e8d62b685",
        "colab": {
          "base_uri": "https://localhost:8080/",
          "height": 88
        }
      },
      "source": [
        "!pip install bs4\n",
        "from bs4 import BeautifulSoup\n",
        "import requests\n",
        "import pandas as pd\n",
        "import numpy as np\n",
        "print(\"Import Successful!!\")"
      ],
      "execution_count": 0,
      "outputs": [
        {
          "output_type": "stream",
          "text": [
            "Requirement already satisfied: bs4 in /usr/local/lib/python3.6/dist-packages (0.0.1)\n",
            "Requirement already satisfied: beautifulsoup4 in /usr/local/lib/python3.6/dist-packages (from bs4) (4.6.3)\n",
            "Import Successful!!\n"
          ],
          "name": "stdout"
        }
      ]
    },
    {
      "cell_type": "markdown",
      "metadata": {
        "id": "KPi2Iaj3iLou",
        "colab_type": "text"
      },
      "source": [
        "**Get The URL or link to the wikipedia website containing Toronto Neighbourhood**"
      ]
    },
    {
      "cell_type": "code",
      "metadata": {
        "id": "gpdnTLYEiHgC",
        "colab_type": "code",
        "outputId": "659b31dc-16e0-4299-e249-c9262046d4b1",
        "colab": {
          "base_uri": "https://localhost:8080/",
          "height": 34
        }
      },
      "source": [
        "url=\"https://en.wikipedia.org/wiki/List_of_postal_codes_of_Canada:_M\"\n",
        "url"
      ],
      "execution_count": 0,
      "outputs": [
        {
          "output_type": "execute_result",
          "data": {
            "text/plain": [
              "'https://en.wikipedia.org/wiki/List_of_postal_codes_of_Canada:_M'"
            ]
          },
          "metadata": {
            "tags": []
          },
          "execution_count": 3
        }
      ]
    },
    {
      "cell_type": "markdown",
      "metadata": {
        "id": "GLu1WxJHis6e",
        "colab_type": "text"
      },
      "source": [
        "**Make GET request using requests libary and parse the html document using BeautifulSoup library frm bs4 package of python**"
      ]
    },
    {
      "cell_type": "code",
      "metadata": {
        "id": "kP6lMBTxin9s",
        "colab_type": "code",
        "colab": {}
      },
      "source": [
        "response=requests.get(url)\n",
        "soup=BeautifulSoup(response.text,'html.parser')\n",
        "table=soup.find('table',{'class':'wikitable sortable'})"
      ],
      "execution_count": 0,
      "outputs": []
    },
    {
      "cell_type": "markdown",
      "metadata": {
        "id": "FxjgjMWajDmq",
        "colab_type": "text"
      },
      "source": [
        "**Preprocessing and formatting of the data to make the Data Set**"
      ]
    },
    {
      "cell_type": "code",
      "metadata": {
        "id": "4uNTQo4xi6Oq",
        "colab_type": "code",
        "colab": {}
      },
      "source": [
        "rows=table.find_all('tr')\n",
        "columns=[v.text.replace('\\n','') for v in rows[0].find_all('th')]\n",
        "\n",
        "df=pd.DataFrame(columns=columns)\n",
        "\n",
        "for i in range(1,len(rows)):\n",
        "  tds=rows[i].find_all('td')\n",
        "  if(tds[1].text == 'Not assigned'):\n",
        "    continue\n",
        "  if(tds[2].text =='Not assigned\\n'):\n",
        "    values=[tds[0].text,tds[1].text,tds[1].text]\n",
        "  else:\n",
        "    values=[tds[0].text,tds[1].text,tds[2].text.replace('\\n','')]\n",
        "  df=df.append(pd.Series(values, index=columns), ignore_index=True)\n",
        "\n",
        "df2=pd.DataFrame(columns=columns)\n",
        "\n",
        "df2['Postcode']=df['Postcode'].unique()\n",
        "\n",
        "df2.set_index('Postcode',inplace=True)\n",
        "\n",
        "df2.fillna(\"\", inplace = True) \n",
        "\n",
        "for i in range(0,len(df)):\n",
        "  x=str(df.iloc[i][0])\n",
        "  df2.loc[x,'Neighbourhood']=\",\"+str(df.iloc[i][2])+df2.loc[x,'Neighbourhood']\n",
        "\n",
        "df2['Neighbourhood']=df2['Neighbourhood'].apply(lambda x: x[1:])\n",
        "\n",
        "df_check=df.copy()\n",
        "for j,i in enumerate(df_check['Postcode'].values):\n",
        "  df2.loc[i,'Borough']=df.iloc[j]['Borough']\n",
        "\n",
        "df2.reset_index(inplace=True)"
      ],
      "execution_count": 0,
      "outputs": []
    },
    {
      "cell_type": "markdown",
      "metadata": {
        "id": "XIbOmLikjTFP",
        "colab_type": "text"
      },
      "source": [
        "**Final Dataset**"
      ]
    },
    {
      "cell_type": "code",
      "metadata": {
        "id": "l5ixAxSQjSBD",
        "colab_type": "code",
        "outputId": "94e3933b-4652-4ed0-a177-c2934c4af9e9",
        "colab": {
          "base_uri": "https://localhost:8080/",
          "height": 204
        }
      },
      "source": [
        "df2.head()"
      ],
      "execution_count": 0,
      "outputs": [
        {
          "output_type": "execute_result",
          "data": {
            "text/html": [
              "<div>\n",
              "<style scoped>\n",
              "    .dataframe tbody tr th:only-of-type {\n",
              "        vertical-align: middle;\n",
              "    }\n",
              "\n",
              "    .dataframe tbody tr th {\n",
              "        vertical-align: top;\n",
              "    }\n",
              "\n",
              "    .dataframe thead th {\n",
              "        text-align: right;\n",
              "    }\n",
              "</style>\n",
              "<table border=\"1\" class=\"dataframe\">\n",
              "  <thead>\n",
              "    <tr style=\"text-align: right;\">\n",
              "      <th></th>\n",
              "      <th>Postcode</th>\n",
              "      <th>Borough</th>\n",
              "      <th>Neighbourhood</th>\n",
              "    </tr>\n",
              "  </thead>\n",
              "  <tbody>\n",
              "    <tr>\n",
              "      <th>0</th>\n",
              "      <td>M3A</td>\n",
              "      <td>North York</td>\n",
              "      <td>Parkwoods</td>\n",
              "    </tr>\n",
              "    <tr>\n",
              "      <th>1</th>\n",
              "      <td>M4A</td>\n",
              "      <td>North York</td>\n",
              "      <td>Victoria Village</td>\n",
              "    </tr>\n",
              "    <tr>\n",
              "      <th>2</th>\n",
              "      <td>M5A</td>\n",
              "      <td>Downtown Toronto</td>\n",
              "      <td>Regent Park,Harbourfront</td>\n",
              "    </tr>\n",
              "    <tr>\n",
              "      <th>3</th>\n",
              "      <td>M6A</td>\n",
              "      <td>North York</td>\n",
              "      <td>Lawrence Manor,Lawrence Heights</td>\n",
              "    </tr>\n",
              "    <tr>\n",
              "      <th>4</th>\n",
              "      <td>M7A</td>\n",
              "      <td>Queen's Park</td>\n",
              "      <td>Queen's Park</td>\n",
              "    </tr>\n",
              "  </tbody>\n",
              "</table>\n",
              "</div>"
            ],
            "text/plain": [
              "  Postcode           Borough                    Neighbourhood\n",
              "0      M3A        North York                        Parkwoods\n",
              "1      M4A        North York                 Victoria Village\n",
              "2      M5A  Downtown Toronto         Regent Park,Harbourfront\n",
              "3      M6A        North York  Lawrence Manor,Lawrence Heights\n",
              "4      M7A      Queen's Park                     Queen's Park"
            ]
          },
          "metadata": {
            "tags": []
          },
          "execution_count": 6
        }
      ]
    },
    {
      "cell_type": "code",
      "metadata": {
        "id": "3xW5JVMMjP4w",
        "colab_type": "code",
        "outputId": "1987ecde-0e8a-4c61-ea21-3f3b43acbef4",
        "colab": {
          "base_uri": "https://localhost:8080/",
          "height": 34
        }
      },
      "source": [
        "print('The shape of the dataset ',df2.shape)"
      ],
      "execution_count": 0,
      "outputs": [
        {
          "output_type": "stream",
          "text": [
            "The shape of the dataset  (103, 3)\n"
          ],
          "name": "stdout"
        }
      ]
    }
  ]
}